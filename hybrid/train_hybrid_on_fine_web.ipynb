{
 "cells": [
  {
   "cell_type": "code",
   "execution_count": 1,
   "metadata": {},
   "outputs": [
    {
     "name": "stderr",
     "output_type": "stream",
     "text": [
      "/u/r/i/riyad/miniconda3/lib/python3.12/site-packages/tqdm/auto.py:21: TqdmWarning: IProgress not found. Please update jupyter and ipywidgets. See https://ipywidgets.readthedocs.io/en/stable/user_install.html\n",
      "  from .autonotebook import tqdm as notebook_tqdm\n",
      "/u/r/i/riyad/miniconda3/lib/python3.12/site-packages/mamba_ssm/ops/selective_scan_interface.py:163: FutureWarning: `torch.cuda.amp.custom_fwd(args...)` is deprecated. Please use `torch.amp.custom_fwd(args..., device_type='cuda')` instead.\n",
      "  @custom_fwd\n",
      "/u/r/i/riyad/miniconda3/lib/python3.12/site-packages/mamba_ssm/ops/selective_scan_interface.py:239: FutureWarning: `torch.cuda.amp.custom_bwd(args...)` is deprecated. Please use `torch.amp.custom_bwd(args..., device_type='cuda')` instead.\n",
      "  @custom_bwd\n",
      "/u/r/i/riyad/miniconda3/lib/python3.12/site-packages/mamba_ssm/ops/triton/layer_norm.py:985: FutureWarning: `torch.cuda.amp.custom_fwd(args...)` is deprecated. Please use `torch.amp.custom_fwd(args..., device_type='cuda')` instead.\n",
      "  @custom_fwd\n",
      "/u/r/i/riyad/miniconda3/lib/python3.12/site-packages/mamba_ssm/ops/triton/layer_norm.py:1044: FutureWarning: `torch.cuda.amp.custom_bwd(args...)` is deprecated. Please use `torch.amp.custom_bwd(args..., device_type='cuda')` instead.\n",
      "  @custom_bwd\n",
      "/u/r/i/riyad/miniconda3/lib/python3.12/site-packages/mamba_ssm/distributed/tensor_parallel.py:25: FutureWarning: `torch.cuda.amp.custom_fwd(args...)` is deprecated. Please use `torch.amp.custom_fwd(args..., device_type='cuda')` instead.\n",
      "  @custom_fwd\n",
      "/u/r/i/riyad/miniconda3/lib/python3.12/site-packages/mamba_ssm/distributed/tensor_parallel.py:61: FutureWarning: `torch.cuda.amp.custom_bwd(args...)` is deprecated. Please use `torch.amp.custom_bwd(args..., device_type='cuda')` instead.\n",
      "  @custom_bwd\n",
      "/u/r/i/riyad/miniconda3/lib/python3.12/site-packages/mamba_ssm/ops/triton/ssd_combined.py:757: FutureWarning: `torch.cuda.amp.custom_fwd(args...)` is deprecated. Please use `torch.amp.custom_fwd(args..., device_type='cuda')` instead.\n",
      "  @custom_fwd\n",
      "/u/r/i/riyad/miniconda3/lib/python3.12/site-packages/mamba_ssm/ops/triton/ssd_combined.py:835: FutureWarning: `torch.cuda.amp.custom_bwd(args...)` is deprecated. Please use `torch.amp.custom_bwd(args..., device_type='cuda')` instead.\n",
      "  @custom_bwd\n"
     ]
    }
   ],
   "source": [
    "from transformers import AutoTokenizer\n",
    "import torch\n",
    "from torch.utils.data import DataLoader\n",
    "from transformers import DataCollatorForLanguageModeling\n",
    "from tqdm import tqdm\n",
    "from hybrid_model import HybridModel\n",
    "from datasets import load_dataset\n",
    "from transformers import MambaModel"
   ]
  },
  {
   "cell_type": "code",
   "execution_count": 2,
   "metadata": {},
   "outputs": [],
   "source": [
    "seed, buffer_size = 42, 10_000\n",
    "dataset = load_dataset('HuggingFaceFW/fineweb', split='train', streaming=True)\n",
    "dataset = dataset.shuffle(seed, buffer_size=buffer_size)"
   ]
  },
  {
   "cell_type": "code",
   "execution_count": 3,
   "metadata": {},
   "outputs": [],
   "source": [
    "transformer_tokenizer = AutoTokenizer.from_pretrained('EleutherAI/gpt-neo-125M',padding_side=\"left\")\n",
    "# if transformer_tokenizer.mask_token is None:\n",
    "#     transformer_tokenizer.add_special_tokens({'mask_token': '[MASK]'})"
   ]
  },
  {
   "cell_type": "code",
   "execution_count": 4,
   "metadata": {},
   "outputs": [],
   "source": [
    "dataset = dataset.with_format(\"torch\")\n",
    "# transformer_model = AutoModelForCausalLM.from_pretrained(\n",
    "#     'EleutherAI/gpt-neo-125M',\n",
    "#     torch_dtype=\"auto\",\n",
    "#     device_map=\"cuda\"\n",
    "# )\n",
    "# mamba_model = MambaForCausalLM.from_pretrained(\"state-spaces/mamba-130m-hf\")"
   ]
  },
  {
   "cell_type": "code",
   "execution_count": 7,
   "metadata": {},
   "outputs": [],
   "source": [
    "#transformer_model"
   ]
  },
  {
   "cell_type": "code",
   "execution_count": 5,
   "metadata": {},
   "outputs": [],
   "source": [
    "from transformers import AutoModel\n",
    "transformer_backbone= AutoModel.from_pretrained('EleutherAI/gpt-neo-125M')"
   ]
  },
  {
   "cell_type": "code",
   "execution_count": 5,
   "metadata": {},
   "outputs": [
    {
     "data": {
      "text/plain": [
       "GPTNeoModel(\n",
       "  (wte): Embedding(50257, 768)\n",
       "  (wpe): Embedding(2048, 768)\n",
       "  (drop): Dropout(p=0.0, inplace=False)\n",
       "  (h): ModuleList(\n",
       "    (0-11): 12 x GPTNeoBlock(\n",
       "      (ln_1): LayerNorm((768,), eps=1e-05, elementwise_affine=True)\n",
       "      (attn): GPTNeoAttention(\n",
       "        (attention): GPTNeoSelfAttention(\n",
       "          (attn_dropout): Dropout(p=0.0, inplace=False)\n",
       "          (resid_dropout): Dropout(p=0.0, inplace=False)\n",
       "          (k_proj): Linear(in_features=768, out_features=768, bias=False)\n",
       "          (v_proj): Linear(in_features=768, out_features=768, bias=False)\n",
       "          (q_proj): Linear(in_features=768, out_features=768, bias=False)\n",
       "          (out_proj): Linear(in_features=768, out_features=768, bias=True)\n",
       "        )\n",
       "      )\n",
       "      (ln_2): LayerNorm((768,), eps=1e-05, elementwise_affine=True)\n",
       "      (mlp): GPTNeoMLP(\n",
       "        (c_fc): Linear(in_features=768, out_features=3072, bias=True)\n",
       "        (c_proj): Linear(in_features=3072, out_features=768, bias=True)\n",
       "        (act): NewGELUActivation()\n",
       "        (dropout): Dropout(p=0.0, inplace=False)\n",
       "      )\n",
       "    )\n",
       "  )\n",
       "  (ln_f): LayerNorm((768,), eps=1e-05, elementwise_affine=True)\n",
       ")"
      ]
     },
     "execution_count": 5,
     "metadata": {},
     "output_type": "execute_result"
    }
   ],
   "source": [
    "transformer_backbone"
   ]
  },
  {
   "cell_type": "code",
   "execution_count": 6,
   "metadata": {},
   "outputs": [],
   "source": [
    "mamba_backbone = MambaModel.from_pretrained('state-spaces/mamba-130m-hf')"
   ]
  },
  {
   "cell_type": "code",
   "execution_count": 10,
   "metadata": {},
   "outputs": [
    {
     "data": {
      "text/plain": [
       "MambaModel(\n",
       "  (embeddings): Embedding(50280, 768)\n",
       "  (layers): ModuleList(\n",
       "    (0-23): 24 x MambaBlock(\n",
       "      (norm): MambaRMSNorm(768, eps=1e-05)\n",
       "      (mixer): MambaMixer(\n",
       "        (conv1d): Conv1d(1536, 1536, kernel_size=(4,), stride=(1,), padding=(3,), groups=1536)\n",
       "        (act): SiLU()\n",
       "        (in_proj): Linear(in_features=768, out_features=3072, bias=False)\n",
       "        (x_proj): Linear(in_features=1536, out_features=80, bias=False)\n",
       "        (dt_proj): Linear(in_features=48, out_features=1536, bias=True)\n",
       "        (out_proj): Linear(in_features=1536, out_features=768, bias=False)\n",
       "      )\n",
       "    )\n",
       "  )\n",
       "  (norm_f): MambaRMSNorm(768, eps=1e-05)\n",
       ")"
      ]
     },
     "execution_count": 10,
     "metadata": {},
     "output_type": "execute_result"
    }
   ],
   "source": [
    "mamba_backbone"
   ]
  },
  {
   "cell_type": "code",
   "execution_count": 7,
   "metadata": {},
   "outputs": [],
   "source": [
    "device = 'cuda:0' if torch.cuda.is_available() else 'cpu'\n",
    "\n",
    "transformer_backbone = transformer_backbone.to(device)\n",
    "mamba_backbone = mamba_backbone.to(device)\n"
   ]
  },
  {
   "cell_type": "code",
   "execution_count": 12,
   "metadata": {},
   "outputs": [
    {
     "name": "stdout",
     "output_type": "stream",
     "text": [
      "Parameter containing:\n",
      "tensor([[ 1.8396e-03, -1.3812e-02,  4.9040e-03,  ..., -9.8580e-03,\n",
      "         -3.2768e-02, -2.6284e-02],\n",
      "        [-9.5766e-03, -1.7582e-02,  2.4014e-02,  ..., -7.6723e-05,\n",
      "          4.8130e-03, -4.6479e-03],\n",
      "        [-3.1165e-02,  4.9692e-04,  2.5671e-02,  ..., -1.7864e-02,\n",
      "         -2.5413e-02, -2.9034e-02],\n",
      "        ...,\n",
      "        [ 3.0531e-02,  1.8112e-02, -1.8730e-02,  ...,  3.3435e-02,\n",
      "          9.0439e-03, -5.9737e-03],\n",
      "        [-1.3401e-02, -2.4215e-02, -2.3823e-02,  ...,  3.0899e-02,\n",
      "          3.4544e-02,  3.4608e-02],\n",
      "        [-1.4139e-02, -1.0430e-02,  3.0011e-02,  ..., -3.3844e-02,\n",
      "         -1.0488e-02, -1.8261e-02]], device='cuda:0', requires_grad=True)\n"
     ]
    },
    {
     "data": {
      "text/plain": [
       "96"
      ]
     },
     "execution_count": 12,
     "metadata": {},
     "output_type": "execute_result"
    }
   ],
   "source": [
    "for param in transformer_backbone.parameters():\n",
    "    param.requires_grad = False\n",
    "\n",
    "for param in mamba_backbone.parameters():\n",
    "    param.requires_grad = False\n",
    "    \n",
    "model = HybridModel(transformer_backbone, mamba_backbone) \n",
    "\n",
    "# model.to(device) ? unfreeze : not\n",
    "model = model.train().to(device)\n",
    "\n",
    "trainer_params = []\n",
    "for combiner in model.combiners.parameters():\n",
    "    trainer_params.append(combiner)\n",
    "\n",
    "for spliter in model.splitters.parameters():\n",
    "    trainer_params.append(spliter)\n",
    "    \n",
    "#trainer_params = torch.T(trainer_params)\n",
    "print(trainer_params[0])\n",
    "len(trainer_params)"
   ]
  },
  {
   "cell_type": "code",
   "execution_count": 13,
   "metadata": {},
   "outputs": [
    {
     "data": {
      "text/plain": [
       "MambaModel(\n",
       "  (embeddings): Embedding(50280, 768)\n",
       "  (layers): ModuleList(\n",
       "    (0-23): 24 x MambaBlock(\n",
       "      (norm): MambaRMSNorm(768, eps=1e-05)\n",
       "      (mixer): MambaMixer(\n",
       "        (conv1d): Conv1d(1536, 1536, kernel_size=(4,), stride=(1,), padding=(3,), groups=1536)\n",
       "        (act): SiLU()\n",
       "        (in_proj): Linear(in_features=768, out_features=3072, bias=False)\n",
       "        (x_proj): Linear(in_features=1536, out_features=80, bias=False)\n",
       "        (dt_proj): Linear(in_features=48, out_features=1536, bias=True)\n",
       "        (out_proj): Linear(in_features=1536, out_features=768, bias=False)\n",
       "      )\n",
       "    )\n",
       "  )\n",
       "  (norm_f): MambaRMSNorm(768, eps=1e-05)\n",
       ")"
      ]
     },
     "execution_count": 13,
     "metadata": {},
     "output_type": "execute_result"
    }
   ],
   "source": [
    "mamba_backbone"
   ]
  },
  {
   "cell_type": "code",
   "execution_count": 8,
   "metadata": {},
   "outputs": [],
   "source": [
    "if transformer_tokenizer.pad_token is None:\n",
    "    transformer_tokenizer.pad_token = transformer_tokenizer.unk_token if transformer_tokenizer.unk_token else transformer_tokenizer.eos_token"
   ]
  },
  {
   "cell_type": "code",
   "execution_count": 15,
   "metadata": {},
   "outputs": [],
   "source": [
    "batched_dataset = dataset.batch(batch_size=16)"
   ]
  },
  {
   "cell_type": "code",
   "execution_count": 16,
   "metadata": {},
   "outputs": [
    {
     "name": "stderr",
     "output_type": "stream",
     "text": [
      "/u/r/i/riyad/miniconda3/lib/python3.12/site-packages/datasets/formatting/torch_formatter.py:78: UserWarning: To copy construct from a tensor, it is recommended to use sourceTensor.clone().detach() or sourceTensor.clone().detach().requires_grad_(True), rather than torch.tensor(sourceTensor).\n",
      "  return torch.tensor(value, **{**default_dtype, **self.torch_tensor_kwargs})\n"
     ]
    },
    {
     "name": "stdout",
     "output_type": "stream",
     "text": [
      "{'input_ids': tensor([[50256, 50256, 50256,  ...,   285,  2621, 19679],\n",
      "        [50256, 50256, 50256,  ...,  1708,  6050,    30],\n",
      "        [50256, 50256, 50256,  ...,   286, 11278,    13],\n",
      "        ...,\n",
      "        [50256, 50256, 50256,  ...,    13,  1157, 22199],\n",
      "        [50256, 50256, 50256,  ...,    13,   447,   251],\n",
      "        [50256, 50256, 50256,  ...,   329,  3555,     0]]), 'attention_mask': tensor([[0, 0, 0,  ..., 1, 1, 1],\n",
      "        [0, 0, 0,  ..., 1, 1, 1],\n",
      "        [0, 0, 0,  ..., 1, 1, 1],\n",
      "        ...,\n",
      "        [0, 0, 0,  ..., 1, 1, 1],\n",
      "        [0, 0, 0,  ..., 1, 1, 1],\n",
      "        [0, 0, 0,  ..., 1, 1, 1]])} {'text': ['If you go winter backpacking, snowshoeing, or mountaineering, you are going to want to bring at least one pair of mittens. Some people will even bring two pairs in case one gets wet. Personally, I bring a pair of mittens for warmth and a pair of gloves for added dexterity.\\nWhen selecting mittens and gloves for winter conditions, here are a couple of must-have features that you should look for:\\nRemovable liners: You need a mitten or glove system that has liners and a removable shell so you don’t overheat and sweat. Sweat in winter is nasty because it freezes in place and chills you, so you have to be extra vigilant about removing layers when you get hot and slow your activity levels to the point where you can stay dry. You can also put removable liners in your sleeping bag at night to dry them.\\nWaterproof, breathable shell: When you sweat you need a shell fabric that has the ability to vent moisture and prevent it from getting in. Higher denier (tougher) Gore-Tex shells work great for this. EVent shells are also available which may be more breathable but are also slightly heavier.\\nGauntlets: These cover the veins in your wrists and eliminate heat loss there. They also prevent drafts from entering your parka/soft shell sleeves and chilling your arms. The gauntlets should have built in tighteners and leashes or tethers that prevent them from being blown off your hands or from getting lost. This would be very dangerous in cold weather conditions.\\nAnatomically curved fingers: On thicker gloves, dexterity and comfort are greatly improved if the palms and fingers are anatomically pre-curved.\\nFor example, I own a pair of Outdoor Research Cornice Mittens, shown above.\\nThe Cornice mittens have a removable liner with fleece on the palm and lofted insulation on the back of the hand for extra warmth. The shell is a seam taped waterproof, breathable, highly durable Gore-Tex 3-layer 330 denier Cordura shell that is anatomically curved for better dexterity. The gauntlets have elastic locking cinches at their base which you can tighten down to keep the wind out, in addition to an idiot cord. There’s also a nice wrist cinch strap that you can tighten to keep the mitten from slipping off your hand.\\nDisclosure: Philip Werner (SectionHiker.com) purchased this mittens with his own funds.\\nMost Popular Searches\\n- gore tex mitten shell\\n- gore tex mittens\\n- mitten shells', 'The Roman Catholic Church loves them some babies, babies from incest, babies from rape, babies from unmarried consenting adults, doesn’t matter. They’re all good. But their view on parents is whacked out. For example, when a teacher and her husband turned to in vitro fertilization, the church canned her despite exemplary performance. Not sure how this will play out legally, because it turns out churches get a special pass on discrimination unavailable to any other employer:\\n(HuffPo) — The U.S. Supreme Court ruled unanimously in January that religious workers can’t sue their employers for job discrimination because anti-discrimination laws allow for a “ministerial exception.” But the justices failed to define who was and who wasn’t a religious employee.”The Supreme Court didn’t give us a kind of neat little on-off test as to who’s a minister and who isn’t,” said Rick Garnett, associate dean and professor of law at Notre Dame Law School.\\nIn a similar case in Ohio, a federal judge last month gave the go-ahead for a trial in a lawsuit against the Archdiocese of Cincinnati by a parochial school teacher who was fired after she became pregnant through artificial insemination, which the church is also against. The archdiocese fired Christa Dias in 2010, saying the single woman violated church doctrine.\\nU.S. District Judge Arthur Spiegel said in his March 29 ruling that the ministerial exception did not apply because Dias was a non-Catholic computer teacher with no role in ministering or teaching Catholic doctrine.\\nOK, fine. So what would stop a “church” from setting up shop, using neo-confederate theology, and discriminating against whatever minorities, they happened to feel superior to? What would stop a mosque or a synagogue from following suit?', 'Event planning is a challenging but rewarding job that requires a very special kind of person. It requires a keen eye for detail, meticulous organization, and saint-like patience. It can be tedious, unpredictable, and even dangerous – but there’s an app for that. Several.\\nDespite the inherent advantages of mobile technologies built specifically for event planning, a recent survey showed that 59 percent of event professionals do not use mobile apps in their event planning, but that 53 percent of those were interested in getting one. That’s a sure sign of a market on the brink of explosion.', 'Too often, there is panic when an organization experiences an executive vacancy.\\nGiven that most nonprofits are strapped for resources, board members face the real possibility they might have to step in and do that work because there is no surplus internal staff capacity.\\nBoards, then, often feel forced to consider short-term questions. How quickly can we fill this position? Who do we already know in this field? Can we quickly post the current job description? Can we fill it internally with someone who already knows everything?\\nBut the exit of a senior staffer should be a strategic choice point – an opportunity to look forward to future needs without having to consider the presence, capacity and limitations of the departing executive.\\nThis is the prime time to assess an organization’s business model and staffing to determine what is needed to advance the organization’s mission.\\nFor some nonprofits, a professional interim executive can play the key role in that succession planning by providing the opportunity to disconnect from the previous executive.\\nThe Presbyterian Church, for example, has long insisted that a retiring senior pastor be followed by an interim preacher, from outside, to break the congregation’s ties to the former pastor.\\nThis exercise serves to open up the church to what comes next.\\nA nonprofit with a skilled interim executive in place can disconnect in a similar fashion from its former leader and thoughtfully assess next steps, all while the daily operation of the organization forges ahead.\\nMoving too quickly to fill a vacancy can result in the candidate who most resembles the departing executive or who is his or her polar opposite.\\nSuch a selection often is a reaction to previous skills and personality rather than an objective assessment of what’s most needed.\\nSometime boards select a prominent retired business leader as the interim, then congratulate themselves on a distinguished placement.\\nBut without prior nonprofit experience, even an experienced corporate executive can have difficulty adjusting to work life without personal staff, which can mean doing their own filing and PowerPoint presentations, ordering their own supplies, making high-level presentations and then stopping at the grocery store to pick up napkins for a fundraising reception.\\nIt is equally important to consider the impact of asking an internal staff member to serve as the interim.\\nThat person likely is already over-burdened, and being asked to assume additional work might not be welcome, even if these are higher level responsibilities.\\nAnd an internal staff interim can potentially create negative impact after the successor executive is hired.\\nIs he or she a candidate for the position? Will she be paid more? When the interim period is over, will she be “demoted” back to her former position? Why is it she could be capable of assuming interim executive duties but not qualified for the permanent position?\\nContracting with a professionally trained and experienced interim executive can be smart succession planning.\\nAn experienced interim can keep the staff engaged, donors interested and the board appropriately involved during the search for a permanent hire.\\nUltimately, an interim executive can provide the board of directors with the opportunity to determine how best to move into a successful future.\\nKathy Ridge is the founder of Edvance Consulting Group, a North Carolina-based firm that provides education and nonprofit consulting and interim executive services.', 'Here are the stats for Midlifewanderlust1965\\nViews 460 (A New High)\\nFollowers 82 (+13)\\nTotal Tweets 10,715\\nIt is going to be a quiet April. There will be some day trips while planning ahead for September.\\nUntil the next post stay safe, stay healthy and keep smiling.', \"My brother's wedding is approaching fast, coming up this Saturday! For his special occasion I decided to rent a lens! SOO after much deliberation on what I wanted to try out I finally decided on a Nikon 17-55mm f/2.8G AF-S DX IF-ED, and boy do I LOVE it!! I was a little leery about renting a lens and really hoping and praying that my experience would go well...I put in my order on a Sunday night and requested it to be shipped right away so it arrived the following Wednesday! So far so good! I am absolutely LOVING this lens!! The bad part is I think I will actually be sad when I have to send it back...Now I'm trying to figure out how to convince the Hubby to buy me one ;)\\nSo I thought I would share some of my deserted country road finds! You can see the awesome detail by clicking on the picture!!\", 'Hospitals and Healthcare Systems\\nAt the heart of any healthy community is a healthy hospital that cares as much about its environment, employees, and neighborhood, as it does its patients. RRS assists hospitals and health systems in minimizing waste generation, costs and risks through sustainability program planning and management, policy development, compliance oversight, and training and education.\\n|Waste/Recycling Program Planning & Management||Service & Product Procurement|\\n|Food Waste Reduction & Recovery Planning||Contract Execution & Management|\\n|Waste Audit/Assessment||Policy, Procedure & Guideline Development|\\n|Compliance Expertise, Tracking & Reporting||Training Development & Facilitation|\\n|Chemical Inventory & Safety Data Sheet Management||Hazardous/Regulated Medical Waste Program Management|\\n|Green Team Facilitation||Communications and Outreach|\\nHenry Ford Health System: Conducted baseline waste/compliance assessments, developed system-wide policies/procedures and training program.\\nHenry Ford Hospital: Implemented resource management program including recycling, hazardous materials and regulated medical waste management, compliance audits and training.\\nMercy Medical Center: Conducted baseline assessments of recycling program, hazardous waste, regulated medical waste, green products, education and alternative energy.\\nMedline Industries: conducted surveys and waste sorts in hospital operating rooms to recommend best practices for compliance, waste minimization and disposal cost reduction.\\nTrinity Health: Resource management of multiple facilities including coordinating pickup, transport and recycling/disposal, as well as negotiating a bundled service contract.\\nBeaumont Health: Implemented food waste composting program following in-depth review of i-building procedures, foodservice product purchasing records, service vendors and cost options.', '- About Us\\n- Global Vision\\n- News and Events\\n- Ways to Help\\n- Advancing the Human Spirit\\nDennis Felty Receives the First PAR Innovation Award\\nDennis Felty, Keystone Human Services’ Founding President, received the first Pennsylvania Advocacy and Resources for Autism and Intellectual Disabilities (PAR) Innovation Award. The award was presented during PAR’s 2013 Solutions Conference on November 20.\\nDennis has dedicated his entire professional life to the belief that people have a deep obligation to serve as change agents, sharing their professional experience with others individually and within the public policy and service delivery processes because the welfare of all people is vested in the welfare of each individual. He holds the belief that people must continually challenge themselves and their organizations to find creative and innovative ways to discover, honor, and value the inherent worth of all people. His vision and Keystone Human Service’s vision is to create an environment where all people, regardless of background and ability, can grow, make choices, and be valued and contributing members of the community.\\nHe and Keystone are dedicated to innovating new and meaningful social forms and structures that have value to all people through the acceptance and understanding of the great diversity within the human condition. These innovations and cutting edge concepts include William Penn Human Services, the Adult Community Autism Program (ACAP), work with children and adults with disabilities in Moldova, Beslan, and South Africa, the conceptualization of the Comprehensive Residential Procedure Code, and the Margin Factor.\\nDennis has been involved in human services since 1968 and was among the original members of PAR. He has been active in shaping PAR’s mission, vision, and strategic direction and has received PAR’s Leadership and Humanitarian awards in past years. He has also served on numerous other national, state, and community Boards and task forces, and he has been a member of the Clinton Global Initiative since 2007.', 'If we could start over from scratch in building our public education system, how would we do it? In New Orleans, that question was far from academic in 2005 after the devastation of Hurricane Katrina. In fact, the question was literal; at the end of the 2005-6 school year, the city only had six schools in operation. Before Katrina, they may as well have had only six, as they had one of the worst-performing school districts in the nation. As one person relates in this Reason TV video, one school had a valedictorian who could not pass a graduation exam in six attempts despite getting straight As in high school.\\nNew Orleans had a choice in creating a new school system — and choice became a first principle, as Nick Gillespie explains:\\nBefore hurricane Katrina ravaged the city in 2005, New Orleans had one of the worst performing public school districts in the nation. Katrina forced nearly a million people to leave their homes and caused almost $100 billion in damages. To an already failing public school system, the storm seemed to provide the final deathblow. But then something amazing happened. In the wake of Katrina, education reformers decided to seize the opportunity and start fresh with a system based on choice.\\nToday, New Orleans has the most market-based school system in the US. Sixty percent of New Orleans students currently attend charter schools, test scores are up, and talented and passionate educators from around the country are flocking to New Orleans to be a part of the education revolution. It’s too early to tell if the New Orleans experiment in school choice will succeed over the long term, but for the first time in decades people are optimistic about the future of New Orleans schools.\\nThe key attributes are competition, parental choice, investment, and an end to the union deathgrip on New Orleans schools that kept children locked into failing schools and failing classrooms. Parents in New Orleans have hope now that their children will get educated rather than baby-sat, and that will provide a renaissance of its own to a city struggling to get back on its feet.\\nOtherwise, we’ll end up with this, courtesy of Bob Ewing at the Daily Caller:\\nEveryone knew OSP would be a bargain. DC has among the highest spending per pupil in the nation. At a conservative estimate of $17,542, the public schools spend over $10,000 more per child than the $7,500 spent through the scholarship program.\\nBut would OSP achieve measureable results?\\nThe answer is a resounding yes. Previous studies by Wolf showed an improvement in academic performance, to the point that a student participating in OSP from kindergarten through high school would likely be 2 ½ years ahead in reading. The key finding in this final round of research, Wolf told us, was the graduation rates. OSP dramatically increases prospects of high-school graduation.\\nWolf pointed to research showing that high-school diplomas significantly improve the chance of getting a job. And dropouts that do find employment earn about $8,500 less per year than their counterpoints with diplomas. Further, each graduate reduces the cost of crime by a stunning $112,000. Cecelia Rouse, an economic advisor to President Obama, found that each additional high school graduate saves the country $260,000.\\nSimply put, OSP has a profoundly positive effect not just on students, but on the city and the country as a whole.\\nSo when it came time for Congress to reauthorize OSP, it would seem to be a no-brainer: Expand the program.\\nInstead, they killed it.\\nOf course. They haven’t had a Katrina to refocus Congress on what ails education; instead, they’re acting in thrall to the teachers union. Be sure to read it all; it’s as depressing as the Reason TV video is uplifting.', 'Explanation dashboard symbols\\nIn this guide all symbols and elements from the Survey Anyplace dashboard will be explained.\\n- The navigation menu\\n- All recent activity to check which survey got a response recently\\n- Number of responses over different periods\\n- The dashboard to manage all of your surveys\\n- Click here to create a new survey/quiz.\\n- You probably clicked on this button to wind up here.\\n- If you want to go to the dashboard and have an overview of all your surveys, click on this \\'Dashboard\\' button\\n- Via \\'Survey\\' you go to the editor tabs of the survey you last edited.\\n- Via \"Results\\' you go to the results of the survey you last edited\\n- Via \\'Upgrade/invoices\\' you can manage your account and licenses.\\n- User Management allows you to work together with your colleagues. Here you can determine the team settings.\\n- In Account you an change your password and complete your profile.\\n- When you click on \\'Logout\\' you will be logged out.\\n- This is the title you gave your survey/quiz. When you click on the title, you\\'ll be able to edit that specific survey/quiz.\\n- This is the email of the person who made the survey/quiz. In most cases this will be your e-mail address.\\n- This is the URL you gave your survey/quiz. When you click on the URL, it\\'ll take you to the survey/quiz you made. When you take the survey/quiz via this way, you\\'re not in the preview mode and your answers will count as a response.\\n- This is the number of responses the survey/quiz obtained\\n- This is the date of the first response.\\n- This is the date of the last response.\\n- By clicking on the \\'Share\\' button you go to the tab where you\\'ll find the link, QR code and iFrame to distribute your survey\\n- By clicking on the \\'Results\\' button you go to the tab to analyze your results\\n- By clicking on the \\'Copy\\' button, you copy your survey. Mind that business rules and skip logic won\\'t be copied.\\n- By clicking on the \\'Delete\\' button, you delete your survey. ATTENTION: this is irreversible.\\n- This switch allows you to make your survey active or inactive. When the survey is inactive, the survey won\\'t be found when you enter the survey URL.', 'Everyday countless people trim their pets toenails without knowing how to do it properly and cause them pain. Often they cut too close and into “the quick” which causes both pain and bleeding for the pet.\\nSome dogs don’t like their nails trimmed and give the owner a hard time, causing the pet stress and making it very difficult to do.\\nWe offer this service for you to make it easier on you and your pet.\\nCanine Pedicure $15\\nFeline Pedicure $15', 'Previous Demo (World Gone Sour) | Next Demo (NBA Jam On Fire Edition)\\nWorld Gone Sour is the fortieth episode of Demo Fridays done by Stephen. It also features Mallory.\\nAd blocker interference detected!\\nWikia is a free-to-use site that makes money from advertising. We have a modified experience for viewers using ad blockers\\nWikia is not accessible if you’ve made further modifications. Remove the custom ad blocker rule(s) and the page will load as expected.', '20 September 2016\\nThere has been a lot hype given to the development of Hyderabad city since the TRS government was formed. KCR’s government has set many expectations among the people about the beautification and cleanliness that the city is going to grasp. But now the horrible situation in the city has exposed the hollowness of the promises given by the Telangana Government. Actually the city turned from bad to worse. The entire city of Hyderabad has turned into a muddy well. The inefficiently designed drainage system could not cope up with the recent heavy rains and the roads are totally turned into ruins. Whether it is old city or Banjara Hills or Hi-Tech City, no matter where, everything looks the same.\\nOn the other hand, the minister of urban development, Mr. KTR wants to bring-up the city to make another Dallas. He also announced a 100-day pilot program to beautify the city. Of course, this order was passed just before the GHMC elections. After that elections are gone and the beautification plan also gone.\\nNo wonder, people are now questioning KTR directly through letters and tweets. Senior Congress leader and former MP V Hanumantha Rao demanded that KTR resign immediately for failing to maintain proper roads in the city. All the opposition leaders have already started questing the government. People are waiting to see where their city roads are going to lead them in the future.', 'Glow-In-The-Dark Glow Gloves\\nGet glowing this Halloween and wear Glow-In-The-Dark Glow Gloves! These spooky glowing gloves are perfect to wear trick or treating, they are a great way to keep an eye on your ghouls. If you are looking for an awesome safety item, these glow gloves are perfect. Glow-In-The-Dark Glow Gloves put smiles on faces & are truly a great way to get noticed.\\nAll you need to activate the awesome glow is sun light! Charge those bad boys in the sun, then wear until the glowing stops!\\nNOTE: This item is sold in pairs. Buying 1 piece means you are buying 1 pair. Example - order 12 pieces to receive 24 individual gloves.\\nOne size fits most.\\nGlow-In-The-Dark Glow Gloves do not include or need batteries.\\nPackaging: Retail ready, individual poly bags, 12 pairs per inner box - 144 pairs per carton.\\nWeight: 0.11 LB', 'RFL chief executive Nigel Wood (pictured) has congratulated Featherstone Rovers for clinching a second successive Co-operative Championship League Leaders Shield.\\nRovers finished three points clear of closest rivals Leigh Centurions after sealing top spot in the table by hammering Super League bound Widnes Vikings 44-4 on Sunday.\\nIt extended Featherstone’s unbeaten league run to 19 matches. Their solitary league defeat this season was at Leigh on the opening day.\\n“On behalf of the RFL I would like to congratulate everyone at Featherstone Rovers for their success in winning the 2011 Championship League Leaders Shield, an achievement that everyone at the club should be proud of,” said Wood.\\n“Featherstone have been one of the most consistent sides in the Co-operative Championship over the past two seasons and their success in retaining the Leaders shield this season is testimony to the quality of their on-field performances in 2011.”', 'I was kindly tagged by notsomoderngirl and thought I would try it. Bear with me, fairly new to blogging and tags! 🤓\\nFlagrate: Writing Charm\\nA book whose theme you found interesting but would like to re-write.\\nI have to pick The Smaller Evil by Stephanie Kuehn. I found the cult like group fascinating but I think I would’ve enjoyed this book a lot more if the last 1/4th was clearer and not quite so confusing. I was enjoying the book until that point and it just ended on a low note for me.\\nAlohomora: Unlocking Charm\\nThe first book in a series that got you hooked.\\nThe Girl with the Dragon Tattoo by Steig Larsson. I absolutely loved this book. It took a little bit to get going but once it did, I was hooked!\\nAccacio: Summoning Charm\\nA book you wish you could have right now.\\nI would love to have Slade House by David Mitchell right now. It’s already available but I just don’t have the funds currently. As soon as I do, rest assured it will be bought! I need to read The Bone Clocks first as they’re supposed to be tied together in some way.\\nAuada Kedaura: Killing Curse\\nA killer book.\\nThe Creeper Man by Dawn Kurtagich. I LOVED this book. So in those terms, it’s a killer book! It also has horror, mystery, death, themes so I suppose that makes it killer too.\\nConfundo: Confusing Charm\\nA book that was really confusing.\\nMy pick for this one is House of Leaves by Mark Z. Danielewski. I’ve attempted to read this before and gave up about 1/4 the way through. I was confused about a lot of it but I was quite a bit younger. I’m hoping now that I’m a bit older, I can work my way through it. It seems like such an amazing book!\\nSectumsempra: Dark Charm\\nA dark and twisted book.\\nHorrorstor by Grady Hendrix. Going into this book, I didn’t have high hopes. It’s rare a book (or movie) can actually give me the creeps. This book achieved that! I was pleasantly surprised!\\nAparecium: Revealing Charm\\nA book that surprised you in a great way.\\nOh my, did this book blow me away! I went into it knowing very little, even thinking it was from the horror genre. I won’t go in to too much detail because of spoilers, but this book will stay with me for a very long time!\\nI’m new at WordPress so I don’t want to tag too many people, not knowing who has already done it. Feel free to do it skip if you’d like!\\nThanks for reading!'], 'id': ['<urn:uuid:12ecc351-55d2-44b1-822a-58c2b800b76d>', '<urn:uuid:0a6a94f8-9639-45fc-aa60-142a086557de>', '<urn:uuid:d55aff8f-20d4-4961-b576-bb2f21f02d4a>', '<urn:uuid:ae3672f6-913a-41a2-aa9f-999046c0c446>', '<urn:uuid:5db50e26-c8ac-4214-aa17-4d54f5019bd9>', '<urn:uuid:27922a6e-4dab-485e-b6f7-abcf7c1cd582>', '<urn:uuid:012b734e-1133-4c1d-bb39-a4822ca69abf>', '<urn:uuid:b797a948-e2ec-4ad1-a777-3d75216a4c19>', '<urn:uuid:d30597b1-3904-424e-9b15-4d903034a212>', '<urn:uuid:8d1ee0e7-30d0-413d-a25a-e37bff1fe1b5>', '<urn:uuid:bac995cb-23c9-4dc9-b6ce-1bd36b1f62e7>', '<urn:uuid:c38dbe7c-84e3-4465-a6be-471ee44fbd3e>', '<urn:uuid:a5bdb2d0-483f-46d4-86e6-8b86f068ea53>', '<urn:uuid:90994fe9-0802-4a8c-b6be-c4b3894b8653>', '<urn:uuid:951afe31-5b81-4dfc-a7ae-48bd343becab>', '<urn:uuid:e68fcd96-946f-4010-ad66-274f949659ce>'], 'dump': ['CC-MAIN-2017-26', 'CC-MAIN-2017-26', 'CC-MAIN-2017-26', 'CC-MAIN-2017-26', 'CC-MAIN-2017-26', 'CC-MAIN-2017-26', 'CC-MAIN-2017-26', 'CC-MAIN-2017-26', 'CC-MAIN-2017-26', 'CC-MAIN-2017-26', 'CC-MAIN-2017-26', 'CC-MAIN-2017-26', 'CC-MAIN-2017-26', 'CC-MAIN-2017-26', 'CC-MAIN-2017-26', 'CC-MAIN-2017-26'], 'url': ['https://sectionhiker.com/winter-gear-outdoor-research-cornice-gore-tex-mittens/', 'https://freethoughtblogs.com/zingularity/2012/04/26/teacher-fired-by-catholic-school-for-getting-pregnant-the-wrong-way/', 'http://www.bpwrap.com/tag/events/', 'https://pj.news.chass.ncsu.edu/2011/04/15/case-interim-executive-director/', 'https://midlifewanderlust1965.wordpress.com/2013/04/01/statistics-march-2013/', 'http://amdunbarranch.blogspot.com/2010/03/testing-new-lens-and-loving-it.html', 'https://recycle.com/our-services/industries-we-serve/hospital-healthcare-system/', 'http://www.keystonehumanservices.org/keystone-news/dennis-felty-receives-the-first-par-innovation-award.php', 'http://hotair.com/archives/2010/07/08/reason-tv-the-education-renaissance-of-katrina/', 'https://surveyanyplace.com/docs/explanation-dashboard-symbols/', 'http://dayandeveningpetclinic.com/services/nail-trims/', 'http://stephengeorg.wikia.com/wiki/Spelunky_-_Demo_Fridays', 'http://www.teluguroommate.com/politics/hyderabad-rains-and-roads.html', 'https://bongoflashers.com/products/glow-in-the-dark-glow-gloves', 'http://www.pontefractandcastlefordexpress.co.uk/sport/rugby-league/featherstone-rovers/rovers-congratulated-by-rfl-chief-wood-1-3743183', 'https://littlelifelibrary.wordpress.com/2017/01/04/harry-potter-book-tag/'], 'date': ['2017-06-28T19:05:48Z', '2017-06-23T08:44:04Z', '2017-06-23T08:48:36Z', '2017-06-29T14:19:46Z', '2017-06-29T14:11:13Z', '2017-06-24T03:42:20Z', '2017-06-28T19:04:50Z', '2017-06-23T08:33:02Z', '2017-06-29T14:27:05Z', '2017-06-28T19:11:57Z', '2017-06-23T08:22:20Z', '2017-06-24T03:40:34Z', '2017-06-23T08:38:23Z', '2017-06-23T08:25:44Z', '2017-06-23T08:34:21Z', '2017-06-23T08:24:24Z'], 'file_path': ['s3://commoncrawl/crawl-data/CC-MAIN-2017-26/segments/1498128323730.30/warc/CC-MAIN-20170628185804-20170628205804-00302.warc.gz', 's3://commoncrawl/crawl-data/CC-MAIN-2017-26/segments/1498128320040.36/warc/CC-MAIN-20170623082050-20170623102050-00021.warc.gz', 's3://commoncrawl/crawl-data/CC-MAIN-2017-26/segments/1498128320040.36/warc/CC-MAIN-20170623082050-20170623102050-00021.warc.gz', 's3://commoncrawl/crawl-data/CC-MAIN-2017-26/segments/1498128329344.98/warc/CC-MAIN-20170629135715-20170629155715-00382.warc.gz', 's3://commoncrawl/crawl-data/CC-MAIN-2017-26/segments/1498128329344.98/warc/CC-MAIN-20170629135715-20170629155715-00382.warc.gz', 's3://commoncrawl/crawl-data/CC-MAIN-2017-26/segments/1498128320215.92/warc/CC-MAIN-20170624031945-20170624051945-00102.warc.gz', 's3://commoncrawl/crawl-data/CC-MAIN-2017-26/segments/1498128323730.30/warc/CC-MAIN-20170628185804-20170628205804-00302.warc.gz', 's3://commoncrawl/crawl-data/CC-MAIN-2017-26/segments/1498128320040.36/warc/CC-MAIN-20170623082050-20170623102050-00021.warc.gz', 's3://commoncrawl/crawl-data/CC-MAIN-2017-26/segments/1498128329344.98/warc/CC-MAIN-20170629135715-20170629155715-00382.warc.gz', 's3://commoncrawl/crawl-data/CC-MAIN-2017-26/segments/1498128323730.30/warc/CC-MAIN-20170628185804-20170628205804-00302.warc.gz', 's3://commoncrawl/crawl-data/CC-MAIN-2017-26/segments/1498128320040.36/warc/CC-MAIN-20170623082050-20170623102050-00021.warc.gz', 's3://commoncrawl/crawl-data/CC-MAIN-2017-26/segments/1498128320215.92/warc/CC-MAIN-20170624031945-20170624051945-00102.warc.gz', 's3://commoncrawl/crawl-data/CC-MAIN-2017-26/segments/1498128320040.36/warc/CC-MAIN-20170623082050-20170623102050-00021.warc.gz', 's3://commoncrawl/crawl-data/CC-MAIN-2017-26/segments/1498128320040.36/warc/CC-MAIN-20170623082050-20170623102050-00021.warc.gz', 's3://commoncrawl/crawl-data/CC-MAIN-2017-26/segments/1498128320040.36/warc/CC-MAIN-20170623082050-20170623102050-00021.warc.gz', 's3://commoncrawl/crawl-data/CC-MAIN-2017-26/segments/1498128320040.36/warc/CC-MAIN-20170623082050-20170623102050-00021.warc.gz'], 'language': ['en', 'en', 'en', 'en', 'en', 'en', 'en', 'en', 'en', 'en', 'en', 'en', 'en', 'en', 'en', 'en'], 'language_score': tensor([0.9335, 0.9738, 0.9514, 0.9592, 0.8248, 0.9719, 0.8839, 0.9658, 0.9717,\n",
      "        0.8748, 0.9487, 0.9108, 0.9771, 0.8554, 0.9519, 0.9758]), 'token_count': tensor([539, 391, 119, 658,  71, 192, 352, 391, 796, 513, 109, 104, 294, 207,\n",
      "        194, 629])}\n"
     ]
    }
   ],
   "source": [
    "for batch in batched_dataset:\n",
    "    t = transformer_tokenizer(batch[\"text\"], padding=\"max_length\", truncation=True, return_tensors= \"pt\")\n",
    "    print(t , batch)\n",
    "    break"
   ]
  },
  {
   "cell_type": "code",
   "execution_count": 12,
   "metadata": {},
   "outputs": [],
   "source": [
    "def tokenize_function(examples):\n",
    "    return transformer_tokenizer(examples[\"text\"],truncation=True)\n",
    "tokenized_dataset = dataset.map(tokenize_function, batched=True)\n",
    "tokenized_dataset = tokenized_dataset.remove_columns(['text', 'id', 'dump', 'url', 'date', 'file_path', 'language', 'language_score', 'token_count'])\n",
    "# Create the data collator for language modeling\n",
    "data_collator = DataCollatorForLanguageModeling(tokenizer=transformer_tokenizer, mlm=False)\n",
    "\n",
    "# Create the dataloader\n",
    "dataloader = DataLoader(tokenized_dataset, batch_size=8, collate_fn=data_collator)"
   ]
  },
  {
   "cell_type": "code",
   "execution_count": null,
   "metadata": {},
   "outputs": [],
   "source": []
  },
  {
   "cell_type": "code",
   "execution_count": 61,
   "metadata": {},
   "outputs": [
    {
     "name": "stdout",
     "output_type": "stream",
     "text": [
      "tensor([ 1532,   345,   467,  7374,   736, 41291,    11,  6729,  1477,  2577,\n",
      "          278,    11,   393,  3817,  5718,  1586,    11,   345,   389,  1016,\n",
      "          284,   765,   284,  2222,   379,  1551,   530,  5166,   286,   285,\n",
      "        34978,    13,  2773,   661,   481,   772,  2222,   734, 14729,   287,\n",
      "         1339,   530,  3011,  9583,    13, 31342,    11,   314,  2222,   257,\n",
      "         5166,   286,   285, 34978,   329, 23125,   290,   257,  5166,   286,\n",
      "        18051,   329,  2087, 50003,    13,   198,  2215, 17246,   285, 34978,\n",
      "          290, 18051,   329,  7374,  3403,    11,   994,   389,   257,  3155,\n",
      "          286,  1276,    12, 14150,  3033,   326,   345,   815,   804,   329,\n",
      "           25,   198,  8413, 21985,  9493,   364,    25,   921,   761,   257,\n",
      "          285,  2621,   393, 29144,  1080,   326,   468,  9493,   364,   290,\n",
      "          257, 35973,  7582,   523,   345,   836,   447,   247,    83,   625,\n",
      "        25080,   290, 15488,    13, 19372,   265,   287,  7374,   318, 17166,\n",
      "          780,   340, 44389,   287,  1295,   290,   442,  2171,   345,    11,\n",
      "          523,   345,   423,   284,   307,  3131, 30257,   546, 10829, 11685,\n",
      "          618,   345,   651,  3024,   290,  3105,   534,  3842,  2974,   284,\n",
      "          262,   966,   810,   345,   460,  2652,  5894,    13,   921,   460,\n",
      "          635,  1234, 35973,  9493,   364,   287,   534, 11029,  6131,   379,\n",
      "         1755,   284,  5894,   606,    13,   198, 19184, 13288,    11,  8033,\n",
      "          540,  7582,    25,  1649,   345, 15488,   345,   761,   257,  7582,\n",
      "         9664,   326,   468,   262,  2694,   284,  7435, 20160,   290,  2948,\n",
      "          340,   422,  1972,   287,    13, 16038,  2853,   959,   357,    83,\n",
      "        20805,   372,     8, 17557,    12, 17005, 19679,   670,  1049,   329,\n",
      "          428,    13,  8696,   298, 19679,   389,   635,  1695,   543,   743,\n",
      "          307,   517,  8033,   540,   475,   389,   635,  4622, 20140,    13,\n",
      "          198,    38, 39695,    25,  2312,  3002,   262, 32375,   287,   534,\n",
      "        38163,   290, 11005,  4894,  2994,   612,    13,  1119,   635,  2948,\n",
      "        30247,   422,  8218,   534,  3952,    64,    14,  4215,  7582, 27409,\n",
      "          290, 28010,   534,  5101,    13,   383,   308, 39695,   815,   423,\n",
      "         3170,   287, 31833,   364,   290,   443,  7465,   393, 49477,    82,\n",
      "          326,  2948,   606,   422,   852, 16318,   572,   534,  2832,   393,\n",
      "          422,  1972,  2626,    13,   770,   561,   307,   845,  4923,   287,\n",
      "         4692,  6193,  3403,    13,   198,  2025, 37696,  1146, 26929,  9353,\n",
      "           25,  1550, 29175, 18051,    11, 50003,   290,  4467,   389,  9257,\n",
      "         6596,   611,   262, 39513,   290,  9353,   389, 20076,   296,  1146,\n",
      "          662,    12, 22019,  1079,    13,   198,  1890,  1672,    11,   314,\n",
      "          898,   257,  5166,   286, 43047,  4992, 11424,   501, 16627,   641,\n",
      "           11,  3402,  2029,    13,   198,   464, 11424,   501,   285, 34978,\n",
      "          423,   257, 35973, 35940,   351, 11562,   344,   319,   262, 18057,\n",
      "          290, 42186,   276, 32806,   319,   262,   736,   286,   262,  1021,\n",
      "          329,  3131, 23125,    13,   383,  7582,   318,   257, 15787, 36114,\n",
      "        35158,    11,  8033,   540,    11,  4047, 20923, 17557,    12, 17005,\n",
      "          513,    12, 29289, 25508,  2853,   959, 21119,  5330,  7582,   326,\n",
      "          318, 20076,   296,  1146, 26929,   329,  1365, 50003,    13,   383,\n",
      "          308, 39695,   423, 27468, 22656,   269, 45457,   379,   511,  2779,\n",
      "          543,   345,   460, 31833,   866,   284,  1394,   262,  2344,   503,\n",
      "           11,   287,  3090,   284,   281, 22324, 15050,    13,  1318,   447,\n",
      "          247,    82,   635,   257,  3621, 15980,   269,  8589, 23016,   326,\n",
      "          345,   460, 31833,   284,  1394,   262,   285,  2621,   422, 29612,\n",
      "          572,   534,  1021,    13,   198,  7279, 17966,    25, 14576, 48642,\n",
      "          357, 16375,    39, 18320,    13,   785,     8,  8155,   428,   285,\n",
      "        34978,   351,   465,   898,  5153,    13,   198,  6943, 22623, 42016,\n",
      "         2052,   198,    12, 46835, 48659,   285,  2621,  7582,   198,    12,\n",
      "        46835, 48659,   285, 34978,   198,    12,   285,  2621, 19679])\n",
      "dict_keys(['input_ids', 'attention_mask'])\n"
     ]
    },
    {
     "name": "stderr",
     "output_type": "stream",
     "text": [
      "/u/r/i/riyad/miniconda3/lib/python3.12/site-packages/datasets/formatting/torch_formatter.py:78: UserWarning: To copy construct from a tensor, it is recommended to use sourceTensor.clone().detach() or sourceTensor.clone().detach().requires_grad_(True), rather than torch.tensor(sourceTensor).\n",
      "  return torch.tensor(value, **{**default_dtype, **self.torch_tensor_kwargs})\n"
     ]
    }
   ],
   "source": [
    "for token in tokenized_dataset:\n",
    "    print(token['input_ids'])\n",
    "    print(token.keys())\n",
    "    break"
   ]
  },
  {
   "cell_type": "code",
   "execution_count": 71,
   "metadata": {},
   "outputs": [],
   "source": [
    "# from projector import Combiner\n",
    "# c = Combiner(10,10).to(device)\n",
    "\n",
    "# c.in_proj1.weight.device\n",
    "\n",
    "# cm = torch.nn.ModuleList([Combiner(10, 10) for _ in range(12)]).to(device)\n",
    "\n",
    "\n"
   ]
  },
  {
   "cell_type": "code",
   "execution_count": 10,
   "metadata": {},
   "outputs": [
    {
     "name": "stdout",
     "output_type": "stream",
     "text": [
      "WEIGHT cuda:0\n"
     ]
    },
    {
     "name": "stderr",
     "output_type": "stream",
     "text": [
      "/u/r/i/riyad/miniconda3/lib/python3.12/site-packages/datasets/formatting/torch_formatter.py:78: UserWarning: To copy construct from a tensor, it is recommended to use sourceTensor.clone().detach() or sourceTensor.clone().detach().requires_grad_(True), rather than torch.tensor(sourceTensor).\n",
      "  return torch.tensor(value, **{**default_dtype, **self.torch_tensor_kwargs})\n"
     ]
    },
    {
     "ename": "RuntimeError",
     "evalue": "Expected all tensors to be on the same device, but found at least two devices, cuda:0 and cpu! (when checking argument for argument index in method wrapper_CUDA__index_select)",
     "output_type": "error",
     "traceback": [
      "\u001b[0;31m---------------------------------------------------------------------------\u001b[0m",
      "\u001b[0;31mRuntimeError\u001b[0m                              Traceback (most recent call last)",
      "Cell \u001b[0;32mIn[10], line 28\u001b[0m\n\u001b[1;32m     26\u001b[0m     \u001b[38;5;28;01mbreak\u001b[39;00m\n\u001b[1;32m     27\u001b[0m \u001b[38;5;66;03m#batch = {k: v.to(device) for k, v in batch.items() if isinstance(v, torch.Tensor)}\u001b[39;00m\n\u001b[0;32m---> 28\u001b[0m outputs \u001b[38;5;241m=\u001b[39m \u001b[43mmodel\u001b[49m\u001b[43m(\u001b[49m\u001b[43minput_data\u001b[49m\u001b[43m \u001b[49m\u001b[38;5;241;43m=\u001b[39;49m\u001b[43m \u001b[49m\u001b[43mbatch\u001b[49m\u001b[43m[\u001b[49m\u001b[38;5;124;43m'\u001b[39;49m\u001b[38;5;124;43minput_ids\u001b[39;49m\u001b[38;5;124;43m'\u001b[39;49m\u001b[43m]\u001b[49m\u001b[43m)\u001b[49m\n\u001b[1;32m     29\u001b[0m loss \u001b[38;5;241m=\u001b[39m outputs[\u001b[38;5;241m0\u001b[39m]\n\u001b[1;32m     30\u001b[0m loss\u001b[38;5;241m.\u001b[39mbackward()\n",
      "File \u001b[0;32m~/miniconda3/lib/python3.12/site-packages/torch/nn/modules/module.py:1553\u001b[0m, in \u001b[0;36mModule._wrapped_call_impl\u001b[0;34m(self, *args, **kwargs)\u001b[0m\n\u001b[1;32m   1551\u001b[0m     \u001b[38;5;28;01mreturn\u001b[39;00m \u001b[38;5;28mself\u001b[39m\u001b[38;5;241m.\u001b[39m_compiled_call_impl(\u001b[38;5;241m*\u001b[39margs, \u001b[38;5;241m*\u001b[39m\u001b[38;5;241m*\u001b[39mkwargs)  \u001b[38;5;66;03m# type: ignore[misc]\u001b[39;00m\n\u001b[1;32m   1552\u001b[0m \u001b[38;5;28;01melse\u001b[39;00m:\n\u001b[0;32m-> 1553\u001b[0m     \u001b[38;5;28;01mreturn\u001b[39;00m \u001b[38;5;28;43mself\u001b[39;49m\u001b[38;5;241;43m.\u001b[39;49m\u001b[43m_call_impl\u001b[49m\u001b[43m(\u001b[49m\u001b[38;5;241;43m*\u001b[39;49m\u001b[43margs\u001b[49m\u001b[43m,\u001b[49m\u001b[43m \u001b[49m\u001b[38;5;241;43m*\u001b[39;49m\u001b[38;5;241;43m*\u001b[39;49m\u001b[43mkwargs\u001b[49m\u001b[43m)\u001b[49m\n",
      "File \u001b[0;32m~/miniconda3/lib/python3.12/site-packages/torch/nn/modules/module.py:1562\u001b[0m, in \u001b[0;36mModule._call_impl\u001b[0;34m(self, *args, **kwargs)\u001b[0m\n\u001b[1;32m   1557\u001b[0m \u001b[38;5;66;03m# If we don't have any hooks, we want to skip the rest of the logic in\u001b[39;00m\n\u001b[1;32m   1558\u001b[0m \u001b[38;5;66;03m# this function, and just call forward.\u001b[39;00m\n\u001b[1;32m   1559\u001b[0m \u001b[38;5;28;01mif\u001b[39;00m \u001b[38;5;129;01mnot\u001b[39;00m (\u001b[38;5;28mself\u001b[39m\u001b[38;5;241m.\u001b[39m_backward_hooks \u001b[38;5;129;01mor\u001b[39;00m \u001b[38;5;28mself\u001b[39m\u001b[38;5;241m.\u001b[39m_backward_pre_hooks \u001b[38;5;129;01mor\u001b[39;00m \u001b[38;5;28mself\u001b[39m\u001b[38;5;241m.\u001b[39m_forward_hooks \u001b[38;5;129;01mor\u001b[39;00m \u001b[38;5;28mself\u001b[39m\u001b[38;5;241m.\u001b[39m_forward_pre_hooks\n\u001b[1;32m   1560\u001b[0m         \u001b[38;5;129;01mor\u001b[39;00m _global_backward_pre_hooks \u001b[38;5;129;01mor\u001b[39;00m _global_backward_hooks\n\u001b[1;32m   1561\u001b[0m         \u001b[38;5;129;01mor\u001b[39;00m _global_forward_hooks \u001b[38;5;129;01mor\u001b[39;00m _global_forward_pre_hooks):\n\u001b[0;32m-> 1562\u001b[0m     \u001b[38;5;28;01mreturn\u001b[39;00m \u001b[43mforward_call\u001b[49m\u001b[43m(\u001b[49m\u001b[38;5;241;43m*\u001b[39;49m\u001b[43margs\u001b[49m\u001b[43m,\u001b[49m\u001b[43m \u001b[49m\u001b[38;5;241;43m*\u001b[39;49m\u001b[38;5;241;43m*\u001b[39;49m\u001b[43mkwargs\u001b[49m\u001b[43m)\u001b[49m\n\u001b[1;32m   1564\u001b[0m \u001b[38;5;28;01mtry\u001b[39;00m:\n\u001b[1;32m   1565\u001b[0m     result \u001b[38;5;241m=\u001b[39m \u001b[38;5;28;01mNone\u001b[39;00m\n",
      "File \u001b[0;32m/afs/cs.wisc.edu/u/r/i/riyad/Desktop/hybrid-model/hybrid/hybrid_model.py:35\u001b[0m, in \u001b[0;36mHybridModel.forward\u001b[0;34m(self, input_data)\u001b[0m\n\u001b[1;32m     32\u001b[0m mamba_layers \u001b[38;5;241m=\u001b[39m \u001b[38;5;28mself\u001b[39m\u001b[38;5;241m.\u001b[39mmamba_model\u001b[38;5;241m.\u001b[39mlayers\n\u001b[1;32m     34\u001b[0m \u001b[38;5;66;03m# Pass through word and position embeddings\u001b[39;00m\n\u001b[0;32m---> 35\u001b[0m trans_t_emb \u001b[38;5;241m=\u001b[39m \u001b[38;5;28;43mself\u001b[39;49m\u001b[38;5;241;43m.\u001b[39;49m\u001b[43mtransformer_model\u001b[49m\u001b[38;5;241;43m.\u001b[39;49m\u001b[43mwte\u001b[49m\u001b[43m(\u001b[49m\u001b[43minput_data\u001b[49m\u001b[43m)\u001b[49m\n\u001b[1;32m     36\u001b[0m trans_p_emb \u001b[38;5;241m=\u001b[39m \u001b[38;5;28mself\u001b[39m\u001b[38;5;241m.\u001b[39mtransformer_model\u001b[38;5;241m.\u001b[39mwpe(torch\u001b[38;5;241m.\u001b[39mtensor([[i \u001b[38;5;28;01mfor\u001b[39;00m i \u001b[38;5;129;01min\u001b[39;00m \u001b[38;5;28mrange\u001b[39m(input_data\u001b[38;5;241m.\u001b[39mshape[\u001b[38;5;241m1\u001b[39m])]]))\n\u001b[1;32m     37\u001b[0m trans_input_emb \u001b[38;5;241m=\u001b[39m trans_t_emb \u001b[38;5;241m+\u001b[39m trans_p_emb\n",
      "File \u001b[0;32m~/miniconda3/lib/python3.12/site-packages/torch/nn/modules/module.py:1553\u001b[0m, in \u001b[0;36mModule._wrapped_call_impl\u001b[0;34m(self, *args, **kwargs)\u001b[0m\n\u001b[1;32m   1551\u001b[0m     \u001b[38;5;28;01mreturn\u001b[39;00m \u001b[38;5;28mself\u001b[39m\u001b[38;5;241m.\u001b[39m_compiled_call_impl(\u001b[38;5;241m*\u001b[39margs, \u001b[38;5;241m*\u001b[39m\u001b[38;5;241m*\u001b[39mkwargs)  \u001b[38;5;66;03m# type: ignore[misc]\u001b[39;00m\n\u001b[1;32m   1552\u001b[0m \u001b[38;5;28;01melse\u001b[39;00m:\n\u001b[0;32m-> 1553\u001b[0m     \u001b[38;5;28;01mreturn\u001b[39;00m \u001b[38;5;28;43mself\u001b[39;49m\u001b[38;5;241;43m.\u001b[39;49m\u001b[43m_call_impl\u001b[49m\u001b[43m(\u001b[49m\u001b[38;5;241;43m*\u001b[39;49m\u001b[43margs\u001b[49m\u001b[43m,\u001b[49m\u001b[43m \u001b[49m\u001b[38;5;241;43m*\u001b[39;49m\u001b[38;5;241;43m*\u001b[39;49m\u001b[43mkwargs\u001b[49m\u001b[43m)\u001b[49m\n",
      "File \u001b[0;32m~/miniconda3/lib/python3.12/site-packages/torch/nn/modules/module.py:1562\u001b[0m, in \u001b[0;36mModule._call_impl\u001b[0;34m(self, *args, **kwargs)\u001b[0m\n\u001b[1;32m   1557\u001b[0m \u001b[38;5;66;03m# If we don't have any hooks, we want to skip the rest of the logic in\u001b[39;00m\n\u001b[1;32m   1558\u001b[0m \u001b[38;5;66;03m# this function, and just call forward.\u001b[39;00m\n\u001b[1;32m   1559\u001b[0m \u001b[38;5;28;01mif\u001b[39;00m \u001b[38;5;129;01mnot\u001b[39;00m (\u001b[38;5;28mself\u001b[39m\u001b[38;5;241m.\u001b[39m_backward_hooks \u001b[38;5;129;01mor\u001b[39;00m \u001b[38;5;28mself\u001b[39m\u001b[38;5;241m.\u001b[39m_backward_pre_hooks \u001b[38;5;129;01mor\u001b[39;00m \u001b[38;5;28mself\u001b[39m\u001b[38;5;241m.\u001b[39m_forward_hooks \u001b[38;5;129;01mor\u001b[39;00m \u001b[38;5;28mself\u001b[39m\u001b[38;5;241m.\u001b[39m_forward_pre_hooks\n\u001b[1;32m   1560\u001b[0m         \u001b[38;5;129;01mor\u001b[39;00m _global_backward_pre_hooks \u001b[38;5;129;01mor\u001b[39;00m _global_backward_hooks\n\u001b[1;32m   1561\u001b[0m         \u001b[38;5;129;01mor\u001b[39;00m _global_forward_hooks \u001b[38;5;129;01mor\u001b[39;00m _global_forward_pre_hooks):\n\u001b[0;32m-> 1562\u001b[0m     \u001b[38;5;28;01mreturn\u001b[39;00m \u001b[43mforward_call\u001b[49m\u001b[43m(\u001b[49m\u001b[38;5;241;43m*\u001b[39;49m\u001b[43margs\u001b[49m\u001b[43m,\u001b[49m\u001b[43m \u001b[49m\u001b[38;5;241;43m*\u001b[39;49m\u001b[38;5;241;43m*\u001b[39;49m\u001b[43mkwargs\u001b[49m\u001b[43m)\u001b[49m\n\u001b[1;32m   1564\u001b[0m \u001b[38;5;28;01mtry\u001b[39;00m:\n\u001b[1;32m   1565\u001b[0m     result \u001b[38;5;241m=\u001b[39m \u001b[38;5;28;01mNone\u001b[39;00m\n",
      "File \u001b[0;32m~/miniconda3/lib/python3.12/site-packages/torch/nn/modules/sparse.py:164\u001b[0m, in \u001b[0;36mEmbedding.forward\u001b[0;34m(self, input)\u001b[0m\n\u001b[1;32m    163\u001b[0m \u001b[38;5;28;01mdef\u001b[39;00m \u001b[38;5;21mforward\u001b[39m(\u001b[38;5;28mself\u001b[39m, \u001b[38;5;28minput\u001b[39m: Tensor) \u001b[38;5;241m-\u001b[39m\u001b[38;5;241m>\u001b[39m Tensor:\n\u001b[0;32m--> 164\u001b[0m     \u001b[38;5;28;01mreturn\u001b[39;00m \u001b[43mF\u001b[49m\u001b[38;5;241;43m.\u001b[39;49m\u001b[43membedding\u001b[49m\u001b[43m(\u001b[49m\n\u001b[1;32m    165\u001b[0m \u001b[43m        \u001b[49m\u001b[38;5;28;43minput\u001b[39;49m\u001b[43m,\u001b[49m\u001b[43m \u001b[49m\u001b[38;5;28;43mself\u001b[39;49m\u001b[38;5;241;43m.\u001b[39;49m\u001b[43mweight\u001b[49m\u001b[43m,\u001b[49m\u001b[43m \u001b[49m\u001b[38;5;28;43mself\u001b[39;49m\u001b[38;5;241;43m.\u001b[39;49m\u001b[43mpadding_idx\u001b[49m\u001b[43m,\u001b[49m\u001b[43m \u001b[49m\u001b[38;5;28;43mself\u001b[39;49m\u001b[38;5;241;43m.\u001b[39;49m\u001b[43mmax_norm\u001b[49m\u001b[43m,\u001b[49m\n\u001b[1;32m    166\u001b[0m \u001b[43m        \u001b[49m\u001b[38;5;28;43mself\u001b[39;49m\u001b[38;5;241;43m.\u001b[39;49m\u001b[43mnorm_type\u001b[49m\u001b[43m,\u001b[49m\u001b[43m \u001b[49m\u001b[38;5;28;43mself\u001b[39;49m\u001b[38;5;241;43m.\u001b[39;49m\u001b[43mscale_grad_by_freq\u001b[49m\u001b[43m,\u001b[49m\u001b[43m \u001b[49m\u001b[38;5;28;43mself\u001b[39;49m\u001b[38;5;241;43m.\u001b[39;49m\u001b[43msparse\u001b[49m\u001b[43m)\u001b[49m\n",
      "File \u001b[0;32m~/miniconda3/lib/python3.12/site-packages/torch/nn/functional.py:2267\u001b[0m, in \u001b[0;36membedding\u001b[0;34m(input, weight, padding_idx, max_norm, norm_type, scale_grad_by_freq, sparse)\u001b[0m\n\u001b[1;32m   2261\u001b[0m     \u001b[38;5;66;03m# Note [embedding_renorm set_grad_enabled]\u001b[39;00m\n\u001b[1;32m   2262\u001b[0m     \u001b[38;5;66;03m# XXX: equivalent to\u001b[39;00m\n\u001b[1;32m   2263\u001b[0m     \u001b[38;5;66;03m# with torch.no_grad():\u001b[39;00m\n\u001b[1;32m   2264\u001b[0m     \u001b[38;5;66;03m#   torch.embedding_renorm_\u001b[39;00m\n\u001b[1;32m   2265\u001b[0m     \u001b[38;5;66;03m# remove once script supports set_grad_enabled\u001b[39;00m\n\u001b[1;32m   2266\u001b[0m     _no_grad_embedding_renorm_(weight, \u001b[38;5;28minput\u001b[39m, max_norm, norm_type)\n\u001b[0;32m-> 2267\u001b[0m \u001b[38;5;28;01mreturn\u001b[39;00m \u001b[43mtorch\u001b[49m\u001b[38;5;241;43m.\u001b[39;49m\u001b[43membedding\u001b[49m\u001b[43m(\u001b[49m\u001b[43mweight\u001b[49m\u001b[43m,\u001b[49m\u001b[43m \u001b[49m\u001b[38;5;28;43minput\u001b[39;49m\u001b[43m,\u001b[49m\u001b[43m \u001b[49m\u001b[43mpadding_idx\u001b[49m\u001b[43m,\u001b[49m\u001b[43m \u001b[49m\u001b[43mscale_grad_by_freq\u001b[49m\u001b[43m,\u001b[49m\u001b[43m \u001b[49m\u001b[43msparse\u001b[49m\u001b[43m)\u001b[49m\n",
      "\u001b[0;31mRuntimeError\u001b[0m: Expected all tensors to be on the same device, but found at least two devices, cuda:0 and cpu! (when checking argument for argument index in method wrapper_CUDA__index_select)"
     ]
    }
   ],
   "source": [
    "\n",
    "device = 'cuda' if torch.cuda.is_available() else 'cpu' \n",
    "\n",
    "for param in transformer_backbone.parameters():\n",
    "    param.requires_grad = False\n",
    "\n",
    "for param in mamba_backbone.parameters():\n",
    "    param.requires_grad = False\n",
    "    \n",
    "model = HybridModel(transformer_backbone, mamba_backbone,device) \n",
    "\n",
    "# model.to(device) ? unfreeze : not\n",
    "model.train()\n",
    "\n",
    "trainer_params = []\n",
    "for combiner in model.combiners.parameters():\n",
    "    trainer_params.append(combiner)\n",
    "\n",
    "for spliter in model.splitters.parameters():\n",
    "    trainer_params.append(spliter)\n",
    "optimizer = torch.optim.AdamW(params=model.parameters(), lr=1e-5)\n",
    "for e in range(3):\n",
    "    # shuffle the dataset\n",
    "    dataset.set_epoch(e)\n",
    "    for i, batch in enumerate(dataloader):\n",
    "        if i == 5:\n",
    "            break\n",
    "        #batch = {k: v.to(device) for k, v in batch.items() if isinstance(v, torch.Tensor)}\n",
    "        outputs = model(input_data = batch['input_ids'])\n",
    "        loss = outputs[0]\n",
    "        loss.backward()\n",
    "        optimizer.step()\n",
    "        optimizer.zero_grad()\n",
    "        if i % 10 == 0:\n",
    "            print(f\"loss: {loss}\")"
   ]
  },
  {
   "cell_type": "code",
   "execution_count": 44,
   "metadata": {},
   "outputs": [
    {
     "data": {
      "text/plain": [
       "<bound method Dataset.__getitem__ of IterableDataset({\n",
       "    features: ['text', 'id', 'dump', 'url', 'date', 'file_path', 'language', 'language_score', 'token_count'],\n",
       "    n_shards: 23781\n",
       "})>"
      ]
     },
     "execution_count": 44,
     "metadata": {},
     "output_type": "execute_result"
    }
   ],
   "source": [
    "dataset.__getitem__"
   ]
  },
  {
   "cell_type": "code",
   "execution_count": null,
   "metadata": {},
   "outputs": [
    {
     "name": "stderr",
     "output_type": "stream",
     "text": [
      "  0%|          | 0/5 [00:00<?, ?it/s]/u/r/i/riyad/miniconda3/lib/python3.12/site-packages/datasets/formatting/torch_formatter.py:78: UserWarning: To copy construct from a tensor, it is recommended to use sourceTensor.clone().detach() or sourceTensor.clone().detach().requires_grad_(True), rather than torch.tensor(sourceTensor).\n",
      "  return torch.tensor(value, **{**default_dtype, **self.torch_tensor_kwargs})\n",
      "  0%|          | 0/5 [00:02<?, ?it/s]"
     ]
    },
    {
     "name": "stdout",
     "output_type": "stream",
     "text": [
      "{'language_score': tensor([0.9335, 0.9738, 0.9514, 0.9592, 0.8248, 0.9719, 0.8839, 0.9658, 0.9717,\n",
      "        0.8748, 0.9487, 0.9108, 0.9771, 0.8554, 0.9519, 0.9758],\n",
      "       device='cuda:0'), 'token_count': tensor([539, 391, 119, 658,  71, 192, 352, 391, 796, 513, 109, 104, 294, 207,\n",
      "        194, 629], device='cuda:0')}\n"
     ]
    },
    {
     "name": "stderr",
     "output_type": "stream",
     "text": [
      "\n"
     ]
    },
    {
     "ename": "RuntimeError",
     "evalue": "Expected tensor for argument #1 'indices' to have one of the following scalar types: Long, Int; but got torch.cuda.FloatTensor instead (while checking arguments for embedding)",
     "output_type": "error",
     "traceback": [
      "\u001b[0;31m---------------------------------------------------------------------------\u001b[0m",
      "\u001b[0;31mRuntimeError\u001b[0m                              Traceback (most recent call last)",
      "Cell \u001b[0;32mIn[34], line 13\u001b[0m\n\u001b[1;32m     11\u001b[0m \u001b[38;5;28mprint\u001b[39m(batch)\n\u001b[1;32m     12\u001b[0m \u001b[38;5;66;03m#t = transformer_tokenizer(batch[\"text\"], padding=\"max_length\", truncation=True, return_tensors= \"pt\")\u001b[39;00m\n\u001b[0;32m---> 13\u001b[0m outputs \u001b[38;5;241m=\u001b[39m \u001b[43mmodel\u001b[49m\u001b[43m(\u001b[49m\u001b[43mbatch\u001b[49m\u001b[43m[\u001b[49m\u001b[38;5;124;43m'\u001b[39;49m\u001b[38;5;124;43mlanguage_score\u001b[39;49m\u001b[38;5;124;43m'\u001b[39;49m\u001b[43m]\u001b[49m\u001b[43m)\u001b[49m\n\u001b[1;32m     14\u001b[0m loss \u001b[38;5;241m=\u001b[39m outputs[\u001b[38;5;241m0\u001b[39m]\n\u001b[1;32m     15\u001b[0m loss\u001b[38;5;241m.\u001b[39mbackward()\n",
      "File \u001b[0;32m~/miniconda3/lib/python3.12/site-packages/torch/nn/modules/module.py:1553\u001b[0m, in \u001b[0;36mModule._wrapped_call_impl\u001b[0;34m(self, *args, **kwargs)\u001b[0m\n\u001b[1;32m   1551\u001b[0m     \u001b[38;5;28;01mreturn\u001b[39;00m \u001b[38;5;28mself\u001b[39m\u001b[38;5;241m.\u001b[39m_compiled_call_impl(\u001b[38;5;241m*\u001b[39margs, \u001b[38;5;241m*\u001b[39m\u001b[38;5;241m*\u001b[39mkwargs)  \u001b[38;5;66;03m# type: ignore[misc]\u001b[39;00m\n\u001b[1;32m   1552\u001b[0m \u001b[38;5;28;01melse\u001b[39;00m:\n\u001b[0;32m-> 1553\u001b[0m     \u001b[38;5;28;01mreturn\u001b[39;00m \u001b[38;5;28;43mself\u001b[39;49m\u001b[38;5;241;43m.\u001b[39;49m\u001b[43m_call_impl\u001b[49m\u001b[43m(\u001b[49m\u001b[38;5;241;43m*\u001b[39;49m\u001b[43margs\u001b[49m\u001b[43m,\u001b[49m\u001b[43m \u001b[49m\u001b[38;5;241;43m*\u001b[39;49m\u001b[38;5;241;43m*\u001b[39;49m\u001b[43mkwargs\u001b[49m\u001b[43m)\u001b[49m\n",
      "File \u001b[0;32m~/miniconda3/lib/python3.12/site-packages/torch/nn/modules/module.py:1562\u001b[0m, in \u001b[0;36mModule._call_impl\u001b[0;34m(self, *args, **kwargs)\u001b[0m\n\u001b[1;32m   1557\u001b[0m \u001b[38;5;66;03m# If we don't have any hooks, we want to skip the rest of the logic in\u001b[39;00m\n\u001b[1;32m   1558\u001b[0m \u001b[38;5;66;03m# this function, and just call forward.\u001b[39;00m\n\u001b[1;32m   1559\u001b[0m \u001b[38;5;28;01mif\u001b[39;00m \u001b[38;5;129;01mnot\u001b[39;00m (\u001b[38;5;28mself\u001b[39m\u001b[38;5;241m.\u001b[39m_backward_hooks \u001b[38;5;129;01mor\u001b[39;00m \u001b[38;5;28mself\u001b[39m\u001b[38;5;241m.\u001b[39m_backward_pre_hooks \u001b[38;5;129;01mor\u001b[39;00m \u001b[38;5;28mself\u001b[39m\u001b[38;5;241m.\u001b[39m_forward_hooks \u001b[38;5;129;01mor\u001b[39;00m \u001b[38;5;28mself\u001b[39m\u001b[38;5;241m.\u001b[39m_forward_pre_hooks\n\u001b[1;32m   1560\u001b[0m         \u001b[38;5;129;01mor\u001b[39;00m _global_backward_pre_hooks \u001b[38;5;129;01mor\u001b[39;00m _global_backward_hooks\n\u001b[1;32m   1561\u001b[0m         \u001b[38;5;129;01mor\u001b[39;00m _global_forward_hooks \u001b[38;5;129;01mor\u001b[39;00m _global_forward_pre_hooks):\n\u001b[0;32m-> 1562\u001b[0m     \u001b[38;5;28;01mreturn\u001b[39;00m \u001b[43mforward_call\u001b[49m\u001b[43m(\u001b[49m\u001b[38;5;241;43m*\u001b[39;49m\u001b[43margs\u001b[49m\u001b[43m,\u001b[49m\u001b[43m \u001b[49m\u001b[38;5;241;43m*\u001b[39;49m\u001b[38;5;241;43m*\u001b[39;49m\u001b[43mkwargs\u001b[49m\u001b[43m)\u001b[49m\n\u001b[1;32m   1564\u001b[0m \u001b[38;5;28;01mtry\u001b[39;00m:\n\u001b[1;32m   1565\u001b[0m     result \u001b[38;5;241m=\u001b[39m \u001b[38;5;28;01mNone\u001b[39;00m\n",
      "File \u001b[0;32m/afs/cs.wisc.edu/u/r/i/riyad/Desktop/hybrid-model/hybrid/hybrid_model.py:33\u001b[0m, in \u001b[0;36mHybridModel.forward\u001b[0;34m(self, input_data)\u001b[0m\n\u001b[1;32m     30\u001b[0m mamba_layers \u001b[38;5;241m=\u001b[39m \u001b[38;5;28mself\u001b[39m\u001b[38;5;241m.\u001b[39mmamba_model\u001b[38;5;241m.\u001b[39mlayers\n\u001b[1;32m     32\u001b[0m \u001b[38;5;66;03m# Pass through word and position embeddings\u001b[39;00m\n\u001b[0;32m---> 33\u001b[0m trans_t_emb \u001b[38;5;241m=\u001b[39m \u001b[38;5;28;43mself\u001b[39;49m\u001b[38;5;241;43m.\u001b[39;49m\u001b[43mtransformer_model\u001b[49m\u001b[38;5;241;43m.\u001b[39;49m\u001b[43mwte\u001b[49m\u001b[43m(\u001b[49m\u001b[43minput_data\u001b[49m\u001b[43m)\u001b[49m\n\u001b[1;32m     34\u001b[0m trans_p_emb \u001b[38;5;241m=\u001b[39m \u001b[38;5;28mself\u001b[39m\u001b[38;5;241m.\u001b[39mtransformer_model\u001b[38;5;241m.\u001b[39mwpe(torch\u001b[38;5;241m.\u001b[39mtensor([[i \u001b[38;5;28;01mfor\u001b[39;00m i \u001b[38;5;129;01min\u001b[39;00m \u001b[38;5;28mrange\u001b[39m(input_data\u001b[38;5;241m.\u001b[39mshape[\u001b[38;5;241m1\u001b[39m])]]))\n\u001b[1;32m     35\u001b[0m trans_input_emb \u001b[38;5;241m=\u001b[39m trans_t_emb \u001b[38;5;241m+\u001b[39m trans_p_emb\n",
      "File \u001b[0;32m~/miniconda3/lib/python3.12/site-packages/torch/nn/modules/module.py:1553\u001b[0m, in \u001b[0;36mModule._wrapped_call_impl\u001b[0;34m(self, *args, **kwargs)\u001b[0m\n\u001b[1;32m   1551\u001b[0m     \u001b[38;5;28;01mreturn\u001b[39;00m \u001b[38;5;28mself\u001b[39m\u001b[38;5;241m.\u001b[39m_compiled_call_impl(\u001b[38;5;241m*\u001b[39margs, \u001b[38;5;241m*\u001b[39m\u001b[38;5;241m*\u001b[39mkwargs)  \u001b[38;5;66;03m# type: ignore[misc]\u001b[39;00m\n\u001b[1;32m   1552\u001b[0m \u001b[38;5;28;01melse\u001b[39;00m:\n\u001b[0;32m-> 1553\u001b[0m     \u001b[38;5;28;01mreturn\u001b[39;00m \u001b[38;5;28;43mself\u001b[39;49m\u001b[38;5;241;43m.\u001b[39;49m\u001b[43m_call_impl\u001b[49m\u001b[43m(\u001b[49m\u001b[38;5;241;43m*\u001b[39;49m\u001b[43margs\u001b[49m\u001b[43m,\u001b[49m\u001b[43m \u001b[49m\u001b[38;5;241;43m*\u001b[39;49m\u001b[38;5;241;43m*\u001b[39;49m\u001b[43mkwargs\u001b[49m\u001b[43m)\u001b[49m\n",
      "File \u001b[0;32m~/miniconda3/lib/python3.12/site-packages/torch/nn/modules/module.py:1562\u001b[0m, in \u001b[0;36mModule._call_impl\u001b[0;34m(self, *args, **kwargs)\u001b[0m\n\u001b[1;32m   1557\u001b[0m \u001b[38;5;66;03m# If we don't have any hooks, we want to skip the rest of the logic in\u001b[39;00m\n\u001b[1;32m   1558\u001b[0m \u001b[38;5;66;03m# this function, and just call forward.\u001b[39;00m\n\u001b[1;32m   1559\u001b[0m \u001b[38;5;28;01mif\u001b[39;00m \u001b[38;5;129;01mnot\u001b[39;00m (\u001b[38;5;28mself\u001b[39m\u001b[38;5;241m.\u001b[39m_backward_hooks \u001b[38;5;129;01mor\u001b[39;00m \u001b[38;5;28mself\u001b[39m\u001b[38;5;241m.\u001b[39m_backward_pre_hooks \u001b[38;5;129;01mor\u001b[39;00m \u001b[38;5;28mself\u001b[39m\u001b[38;5;241m.\u001b[39m_forward_hooks \u001b[38;5;129;01mor\u001b[39;00m \u001b[38;5;28mself\u001b[39m\u001b[38;5;241m.\u001b[39m_forward_pre_hooks\n\u001b[1;32m   1560\u001b[0m         \u001b[38;5;129;01mor\u001b[39;00m _global_backward_pre_hooks \u001b[38;5;129;01mor\u001b[39;00m _global_backward_hooks\n\u001b[1;32m   1561\u001b[0m         \u001b[38;5;129;01mor\u001b[39;00m _global_forward_hooks \u001b[38;5;129;01mor\u001b[39;00m _global_forward_pre_hooks):\n\u001b[0;32m-> 1562\u001b[0m     \u001b[38;5;28;01mreturn\u001b[39;00m \u001b[43mforward_call\u001b[49m\u001b[43m(\u001b[49m\u001b[38;5;241;43m*\u001b[39;49m\u001b[43margs\u001b[49m\u001b[43m,\u001b[49m\u001b[43m \u001b[49m\u001b[38;5;241;43m*\u001b[39;49m\u001b[38;5;241;43m*\u001b[39;49m\u001b[43mkwargs\u001b[49m\u001b[43m)\u001b[49m\n\u001b[1;32m   1564\u001b[0m \u001b[38;5;28;01mtry\u001b[39;00m:\n\u001b[1;32m   1565\u001b[0m     result \u001b[38;5;241m=\u001b[39m \u001b[38;5;28;01mNone\u001b[39;00m\n",
      "File \u001b[0;32m~/miniconda3/lib/python3.12/site-packages/torch/nn/modules/sparse.py:164\u001b[0m, in \u001b[0;36mEmbedding.forward\u001b[0;34m(self, input)\u001b[0m\n\u001b[1;32m    163\u001b[0m \u001b[38;5;28;01mdef\u001b[39;00m \u001b[38;5;21mforward\u001b[39m(\u001b[38;5;28mself\u001b[39m, \u001b[38;5;28minput\u001b[39m: Tensor) \u001b[38;5;241m-\u001b[39m\u001b[38;5;241m>\u001b[39m Tensor:\n\u001b[0;32m--> 164\u001b[0m     \u001b[38;5;28;01mreturn\u001b[39;00m \u001b[43mF\u001b[49m\u001b[38;5;241;43m.\u001b[39;49m\u001b[43membedding\u001b[49m\u001b[43m(\u001b[49m\n\u001b[1;32m    165\u001b[0m \u001b[43m        \u001b[49m\u001b[38;5;28;43minput\u001b[39;49m\u001b[43m,\u001b[49m\u001b[43m \u001b[49m\u001b[38;5;28;43mself\u001b[39;49m\u001b[38;5;241;43m.\u001b[39;49m\u001b[43mweight\u001b[49m\u001b[43m,\u001b[49m\u001b[43m \u001b[49m\u001b[38;5;28;43mself\u001b[39;49m\u001b[38;5;241;43m.\u001b[39;49m\u001b[43mpadding_idx\u001b[49m\u001b[43m,\u001b[49m\u001b[43m \u001b[49m\u001b[38;5;28;43mself\u001b[39;49m\u001b[38;5;241;43m.\u001b[39;49m\u001b[43mmax_norm\u001b[49m\u001b[43m,\u001b[49m\n\u001b[1;32m    166\u001b[0m \u001b[43m        \u001b[49m\u001b[38;5;28;43mself\u001b[39;49m\u001b[38;5;241;43m.\u001b[39;49m\u001b[43mnorm_type\u001b[49m\u001b[43m,\u001b[49m\u001b[43m \u001b[49m\u001b[38;5;28;43mself\u001b[39;49m\u001b[38;5;241;43m.\u001b[39;49m\u001b[43mscale_grad_by_freq\u001b[49m\u001b[43m,\u001b[49m\u001b[43m \u001b[49m\u001b[38;5;28;43mself\u001b[39;49m\u001b[38;5;241;43m.\u001b[39;49m\u001b[43msparse\u001b[49m\u001b[43m)\u001b[49m\n",
      "File \u001b[0;32m~/miniconda3/lib/python3.12/site-packages/torch/nn/functional.py:2267\u001b[0m, in \u001b[0;36membedding\u001b[0;34m(input, weight, padding_idx, max_norm, norm_type, scale_grad_by_freq, sparse)\u001b[0m\n\u001b[1;32m   2261\u001b[0m     \u001b[38;5;66;03m# Note [embedding_renorm set_grad_enabled]\u001b[39;00m\n\u001b[1;32m   2262\u001b[0m     \u001b[38;5;66;03m# XXX: equivalent to\u001b[39;00m\n\u001b[1;32m   2263\u001b[0m     \u001b[38;5;66;03m# with torch.no_grad():\u001b[39;00m\n\u001b[1;32m   2264\u001b[0m     \u001b[38;5;66;03m#   torch.embedding_renorm_\u001b[39;00m\n\u001b[1;32m   2265\u001b[0m     \u001b[38;5;66;03m# remove once script supports set_grad_enabled\u001b[39;00m\n\u001b[1;32m   2266\u001b[0m     _no_grad_embedding_renorm_(weight, \u001b[38;5;28minput\u001b[39m, max_norm, norm_type)\n\u001b[0;32m-> 2267\u001b[0m \u001b[38;5;28;01mreturn\u001b[39;00m \u001b[43mtorch\u001b[49m\u001b[38;5;241;43m.\u001b[39;49m\u001b[43membedding\u001b[49m\u001b[43m(\u001b[49m\u001b[43mweight\u001b[49m\u001b[43m,\u001b[49m\u001b[43m \u001b[49m\u001b[38;5;28;43minput\u001b[39;49m\u001b[43m,\u001b[49m\u001b[43m \u001b[49m\u001b[43mpadding_idx\u001b[49m\u001b[43m,\u001b[49m\u001b[43m \u001b[49m\u001b[43mscale_grad_by_freq\u001b[49m\u001b[43m,\u001b[49m\u001b[43m \u001b[49m\u001b[43msparse\u001b[49m\u001b[43m)\u001b[49m\n",
      "\u001b[0;31mRuntimeError\u001b[0m: Expected tensor for argument #1 'indices' to have one of the following scalar types: Long, Int; but got torch.cuda.FloatTensor instead (while checking arguments for embedding)"
     ]
    }
   ],
   "source": [
    "#dataloader = DataLoader(tokenized_dataset,batch_size= 32, collate_fn=DataCollatorForLanguageModeling(transformer_tokenizer,mlm=False))\n",
    "\n",
    "\n"
   ]
  },
  {
   "cell_type": "code",
   "execution_count": 65,
   "metadata": {},
   "outputs": [
    {
     "data": {
      "text/plain": [
       "device(type='cuda', index=0)"
      ]
     },
     "execution_count": 65,
     "metadata": {},
     "output_type": "execute_result"
    }
   ],
   "source": [
    "model.splitters[0].out_proj1.weight.device"
   ]
  },
  {
   "cell_type": "code",
   "execution_count": 66,
   "metadata": {},
   "outputs": [
    {
     "data": {
      "text/plain": [
       "device(type='cuda', index=0)"
      ]
     },
     "execution_count": 66,
     "metadata": {},
     "output_type": "execute_result"
    }
   ],
   "source": [
    "model.transformer_model.device"
   ]
  },
  {
   "cell_type": "code",
   "execution_count": 69,
   "metadata": {},
   "outputs": [
    {
     "data": {
      "text/plain": [
       "tensor([[50256, 50256, 50256,  ...,   285,  2621, 19679],\n",
       "        [50256, 50256, 50256,  ...,  1708,  6050,    30],\n",
       "        [50256, 50256, 50256,  ...,   286, 11278,    13],\n",
       "        ...,\n",
       "        [50256, 50256, 50256,  ...,    13,  1157, 22199],\n",
       "        [50256, 50256, 50256,  ...,    13,   447,   251],\n",
       "        [50256, 50256, 50256,  ...,   329,  3555,     0]], device='cuda:0')"
      ]
     },
     "execution_count": 69,
     "metadata": {},
     "output_type": "execute_result"
    }
   ],
   "source": [
    "t['input_ids'].to(device)"
   ]
  },
  {
   "cell_type": "code",
   "execution_count": 35,
   "metadata": {},
   "outputs": [
    {
     "name": "stderr",
     "output_type": "stream",
     "text": [
      "  0%|          | 0/5 [00:00<?, ?it/s]/u/r/i/riyad/miniconda3/lib/python3.12/site-packages/datasets/formatting/torch_formatter.py:78: UserWarning: To copy construct from a tensor, it is recommended to use sourceTensor.clone().detach() or sourceTensor.clone().detach().requires_grad_(True), rather than torch.tensor(sourceTensor).\n",
      "  return torch.tensor(value, **{**default_dtype, **self.torch_tensor_kwargs})\n",
      "  0%|          | 0/5 [00:02<?, ?it/s]\n"
     ]
    },
    {
     "name": "stdout",
     "output_type": "stream",
     "text": [
      "{'text': ['If you go winter backpacking, snowshoeing, or mountaineering, you are going to want to bring at least one pair of mittens. Some people will even bring two pairs in case one gets wet. Personally, I bring a pair of mittens for warmth and a pair of gloves for added dexterity.\\nWhen selecting mittens and gloves for winter conditions, here are a couple of must-have features that you should look for:\\nRemovable liners: You need a mitten or glove system that has liners and a removable shell so you don’t overheat and sweat. Sweat in winter is nasty because it freezes in place and chills you, so you have to be extra vigilant about removing layers when you get hot and slow your activity levels to the point where you can stay dry. You can also put removable liners in your sleeping bag at night to dry them.\\nWaterproof, breathable shell: When you sweat you need a shell fabric that has the ability to vent moisture and prevent it from getting in. Higher denier (tougher) Gore-Tex shells work great for this. EVent shells are also available which may be more breathable but are also slightly heavier.\\nGauntlets: These cover the veins in your wrists and eliminate heat loss there. They also prevent drafts from entering your parka/soft shell sleeves and chilling your arms. The gauntlets should have built in tighteners and leashes or tethers that prevent them from being blown off your hands or from getting lost. This would be very dangerous in cold weather conditions.\\nAnatomically curved fingers: On thicker gloves, dexterity and comfort are greatly improved if the palms and fingers are anatomically pre-curved.\\nFor example, I own a pair of Outdoor Research Cornice Mittens, shown above.\\nThe Cornice mittens have a removable liner with fleece on the palm and lofted insulation on the back of the hand for extra warmth. The shell is a seam taped waterproof, breathable, highly durable Gore-Tex 3-layer 330 denier Cordura shell that is anatomically curved for better dexterity. The gauntlets have elastic locking cinches at their base which you can tighten down to keep the wind out, in addition to an idiot cord. There’s also a nice wrist cinch strap that you can tighten to keep the mitten from slipping off your hand.\\nDisclosure: Philip Werner (SectionHiker.com) purchased this mittens with his own funds.\\nMost Popular Searches\\n- gore tex mitten shell\\n- gore tex mittens\\n- mitten shells', 'The Roman Catholic Church loves them some babies, babies from incest, babies from rape, babies from unmarried consenting adults, doesn’t matter. They’re all good. But their view on parents is whacked out. For example, when a teacher and her husband turned to in vitro fertilization, the church canned her despite exemplary performance. Not sure how this will play out legally, because it turns out churches get a special pass on discrimination unavailable to any other employer:\\n(HuffPo) — The U.S. Supreme Court ruled unanimously in January that religious workers can’t sue their employers for job discrimination because anti-discrimination laws allow for a “ministerial exception.” But the justices failed to define who was and who wasn’t a religious employee.”The Supreme Court didn’t give us a kind of neat little on-off test as to who’s a minister and who isn’t,” said Rick Garnett, associate dean and professor of law at Notre Dame Law School.\\nIn a similar case in Ohio, a federal judge last month gave the go-ahead for a trial in a lawsuit against the Archdiocese of Cincinnati by a parochial school teacher who was fired after she became pregnant through artificial insemination, which the church is also against. The archdiocese fired Christa Dias in 2010, saying the single woman violated church doctrine.\\nU.S. District Judge Arthur Spiegel said in his March 29 ruling that the ministerial exception did not apply because Dias was a non-Catholic computer teacher with no role in ministering or teaching Catholic doctrine.\\nOK, fine. So what would stop a “church” from setting up shop, using neo-confederate theology, and discriminating against whatever minorities, they happened to feel superior to? What would stop a mosque or a synagogue from following suit?', 'Event planning is a challenging but rewarding job that requires a very special kind of person. It requires a keen eye for detail, meticulous organization, and saint-like patience. It can be tedious, unpredictable, and even dangerous – but there’s an app for that. Several.\\nDespite the inherent advantages of mobile technologies built specifically for event planning, a recent survey showed that 59 percent of event professionals do not use mobile apps in their event planning, but that 53 percent of those were interested in getting one. That’s a sure sign of a market on the brink of explosion.', 'Too often, there is panic when an organization experiences an executive vacancy.\\nGiven that most nonprofits are strapped for resources, board members face the real possibility they might have to step in and do that work because there is no surplus internal staff capacity.\\nBoards, then, often feel forced to consider short-term questions. How quickly can we fill this position? Who do we already know in this field? Can we quickly post the current job description? Can we fill it internally with someone who already knows everything?\\nBut the exit of a senior staffer should be a strategic choice point – an opportunity to look forward to future needs without having to consider the presence, capacity and limitations of the departing executive.\\nThis is the prime time to assess an organization’s business model and staffing to determine what is needed to advance the organization’s mission.\\nFor some nonprofits, a professional interim executive can play the key role in that succession planning by providing the opportunity to disconnect from the previous executive.\\nThe Presbyterian Church, for example, has long insisted that a retiring senior pastor be followed by an interim preacher, from outside, to break the congregation’s ties to the former pastor.\\nThis exercise serves to open up the church to what comes next.\\nA nonprofit with a skilled interim executive in place can disconnect in a similar fashion from its former leader and thoughtfully assess next steps, all while the daily operation of the organization forges ahead.\\nMoving too quickly to fill a vacancy can result in the candidate who most resembles the departing executive or who is his or her polar opposite.\\nSuch a selection often is a reaction to previous skills and personality rather than an objective assessment of what’s most needed.\\nSometime boards select a prominent retired business leader as the interim, then congratulate themselves on a distinguished placement.\\nBut without prior nonprofit experience, even an experienced corporate executive can have difficulty adjusting to work life without personal staff, which can mean doing their own filing and PowerPoint presentations, ordering their own supplies, making high-level presentations and then stopping at the grocery store to pick up napkins for a fundraising reception.\\nIt is equally important to consider the impact of asking an internal staff member to serve as the interim.\\nThat person likely is already over-burdened, and being asked to assume additional work might not be welcome, even if these are higher level responsibilities.\\nAnd an internal staff interim can potentially create negative impact after the successor executive is hired.\\nIs he or she a candidate for the position? Will she be paid more? When the interim period is over, will she be “demoted” back to her former position? Why is it she could be capable of assuming interim executive duties but not qualified for the permanent position?\\nContracting with a professionally trained and experienced interim executive can be smart succession planning.\\nAn experienced interim can keep the staff engaged, donors interested and the board appropriately involved during the search for a permanent hire.\\nUltimately, an interim executive can provide the board of directors with the opportunity to determine how best to move into a successful future.\\nKathy Ridge is the founder of Edvance Consulting Group, a North Carolina-based firm that provides education and nonprofit consulting and interim executive services.', 'Here are the stats for Midlifewanderlust1965\\nViews 460 (A New High)\\nFollowers 82 (+13)\\nTotal Tweets 10,715\\nIt is going to be a quiet April. There will be some day trips while planning ahead for September.\\nUntil the next post stay safe, stay healthy and keep smiling.', \"My brother's wedding is approaching fast, coming up this Saturday! For his special occasion I decided to rent a lens! SOO after much deliberation on what I wanted to try out I finally decided on a Nikon 17-55mm f/2.8G AF-S DX IF-ED, and boy do I LOVE it!! I was a little leery about renting a lens and really hoping and praying that my experience would go well...I put in my order on a Sunday night and requested it to be shipped right away so it arrived the following Wednesday! So far so good! I am absolutely LOVING this lens!! The bad part is I think I will actually be sad when I have to send it back...Now I'm trying to figure out how to convince the Hubby to buy me one ;)\\nSo I thought I would share some of my deserted country road finds! You can see the awesome detail by clicking on the picture!!\", 'Hospitals and Healthcare Systems\\nAt the heart of any healthy community is a healthy hospital that cares as much about its environment, employees, and neighborhood, as it does its patients. RRS assists hospitals and health systems in minimizing waste generation, costs and risks through sustainability program planning and management, policy development, compliance oversight, and training and education.\\n|Waste/Recycling Program Planning & Management||Service & Product Procurement|\\n|Food Waste Reduction & Recovery Planning||Contract Execution & Management|\\n|Waste Audit/Assessment||Policy, Procedure & Guideline Development|\\n|Compliance Expertise, Tracking & Reporting||Training Development & Facilitation|\\n|Chemical Inventory & Safety Data Sheet Management||Hazardous/Regulated Medical Waste Program Management|\\n|Green Team Facilitation||Communications and Outreach|\\nHenry Ford Health System: Conducted baseline waste/compliance assessments, developed system-wide policies/procedures and training program.\\nHenry Ford Hospital: Implemented resource management program including recycling, hazardous materials and regulated medical waste management, compliance audits and training.\\nMercy Medical Center: Conducted baseline assessments of recycling program, hazardous waste, regulated medical waste, green products, education and alternative energy.\\nMedline Industries: conducted surveys and waste sorts in hospital operating rooms to recommend best practices for compliance, waste minimization and disposal cost reduction.\\nTrinity Health: Resource management of multiple facilities including coordinating pickup, transport and recycling/disposal, as well as negotiating a bundled service contract.\\nBeaumont Health: Implemented food waste composting program following in-depth review of i-building procedures, foodservice product purchasing records, service vendors and cost options.', '- About Us\\n- Global Vision\\n- News and Events\\n- Ways to Help\\n- Advancing the Human Spirit\\nDennis Felty Receives the First PAR Innovation Award\\nDennis Felty, Keystone Human Services’ Founding President, received the first Pennsylvania Advocacy and Resources for Autism and Intellectual Disabilities (PAR) Innovation Award. The award was presented during PAR’s 2013 Solutions Conference on November 20.\\nDennis has dedicated his entire professional life to the belief that people have a deep obligation to serve as change agents, sharing their professional experience with others individually and within the public policy and service delivery processes because the welfare of all people is vested in the welfare of each individual. He holds the belief that people must continually challenge themselves and their organizations to find creative and innovative ways to discover, honor, and value the inherent worth of all people. His vision and Keystone Human Service’s vision is to create an environment where all people, regardless of background and ability, can grow, make choices, and be valued and contributing members of the community.\\nHe and Keystone are dedicated to innovating new and meaningful social forms and structures that have value to all people through the acceptance and understanding of the great diversity within the human condition. These innovations and cutting edge concepts include William Penn Human Services, the Adult Community Autism Program (ACAP), work with children and adults with disabilities in Moldova, Beslan, and South Africa, the conceptualization of the Comprehensive Residential Procedure Code, and the Margin Factor.\\nDennis has been involved in human services since 1968 and was among the original members of PAR. He has been active in shaping PAR’s mission, vision, and strategic direction and has received PAR’s Leadership and Humanitarian awards in past years. He has also served on numerous other national, state, and community Boards and task forces, and he has been a member of the Clinton Global Initiative since 2007.', 'If we could start over from scratch in building our public education system, how would we do it? In New Orleans, that question was far from academic in 2005 after the devastation of Hurricane Katrina. In fact, the question was literal; at the end of the 2005-6 school year, the city only had six schools in operation. Before Katrina, they may as well have had only six, as they had one of the worst-performing school districts in the nation. As one person relates in this Reason TV video, one school had a valedictorian who could not pass a graduation exam in six attempts despite getting straight As in high school.\\nNew Orleans had a choice in creating a new school system — and choice became a first principle, as Nick Gillespie explains:\\nBefore hurricane Katrina ravaged the city in 2005, New Orleans had one of the worst performing public school districts in the nation. Katrina forced nearly a million people to leave their homes and caused almost $100 billion in damages. To an already failing public school system, the storm seemed to provide the final deathblow. But then something amazing happened. In the wake of Katrina, education reformers decided to seize the opportunity and start fresh with a system based on choice.\\nToday, New Orleans has the most market-based school system in the US. Sixty percent of New Orleans students currently attend charter schools, test scores are up, and talented and passionate educators from around the country are flocking to New Orleans to be a part of the education revolution. It’s too early to tell if the New Orleans experiment in school choice will succeed over the long term, but for the first time in decades people are optimistic about the future of New Orleans schools.\\nThe key attributes are competition, parental choice, investment, and an end to the union deathgrip on New Orleans schools that kept children locked into failing schools and failing classrooms. Parents in New Orleans have hope now that their children will get educated rather than baby-sat, and that will provide a renaissance of its own to a city struggling to get back on its feet.\\nOtherwise, we’ll end up with this, courtesy of Bob Ewing at the Daily Caller:\\nEveryone knew OSP would be a bargain. DC has among the highest spending per pupil in the nation. At a conservative estimate of $17,542, the public schools spend over $10,000 more per child than the $7,500 spent through the scholarship program.\\nBut would OSP achieve measureable results?\\nThe answer is a resounding yes. Previous studies by Wolf showed an improvement in academic performance, to the point that a student participating in OSP from kindergarten through high school would likely be 2 ½ years ahead in reading. The key finding in this final round of research, Wolf told us, was the graduation rates. OSP dramatically increases prospects of high-school graduation.\\nWolf pointed to research showing that high-school diplomas significantly improve the chance of getting a job. And dropouts that do find employment earn about $8,500 less per year than their counterpoints with diplomas. Further, each graduate reduces the cost of crime by a stunning $112,000. Cecelia Rouse, an economic advisor to President Obama, found that each additional high school graduate saves the country $260,000.\\nSimply put, OSP has a profoundly positive effect not just on students, but on the city and the country as a whole.\\nSo when it came time for Congress to reauthorize OSP, it would seem to be a no-brainer: Expand the program.\\nInstead, they killed it.\\nOf course. They haven’t had a Katrina to refocus Congress on what ails education; instead, they’re acting in thrall to the teachers union. Be sure to read it all; it’s as depressing as the Reason TV video is uplifting.', 'Explanation dashboard symbols\\nIn this guide all symbols and elements from the Survey Anyplace dashboard will be explained.\\n- The navigation menu\\n- All recent activity to check which survey got a response recently\\n- Number of responses over different periods\\n- The dashboard to manage all of your surveys\\n- Click here to create a new survey/quiz.\\n- You probably clicked on this button to wind up here.\\n- If you want to go to the dashboard and have an overview of all your surveys, click on this \\'Dashboard\\' button\\n- Via \\'Survey\\' you go to the editor tabs of the survey you last edited.\\n- Via \"Results\\' you go to the results of the survey you last edited\\n- Via \\'Upgrade/invoices\\' you can manage your account and licenses.\\n- User Management allows you to work together with your colleagues. Here you can determine the team settings.\\n- In Account you an change your password and complete your profile.\\n- When you click on \\'Logout\\' you will be logged out.\\n- This is the title you gave your survey/quiz. When you click on the title, you\\'ll be able to edit that specific survey/quiz.\\n- This is the email of the person who made the survey/quiz. In most cases this will be your e-mail address.\\n- This is the URL you gave your survey/quiz. When you click on the URL, it\\'ll take you to the survey/quiz you made. When you take the survey/quiz via this way, you\\'re not in the preview mode and your answers will count as a response.\\n- This is the number of responses the survey/quiz obtained\\n- This is the date of the first response.\\n- This is the date of the last response.\\n- By clicking on the \\'Share\\' button you go to the tab where you\\'ll find the link, QR code and iFrame to distribute your survey\\n- By clicking on the \\'Results\\' button you go to the tab to analyze your results\\n- By clicking on the \\'Copy\\' button, you copy your survey. Mind that business rules and skip logic won\\'t be copied.\\n- By clicking on the \\'Delete\\' button, you delete your survey. ATTENTION: this is irreversible.\\n- This switch allows you to make your survey active or inactive. When the survey is inactive, the survey won\\'t be found when you enter the survey URL.', 'Everyday countless people trim their pets toenails without knowing how to do it properly and cause them pain. Often they cut too close and into “the quick” which causes both pain and bleeding for the pet.\\nSome dogs don’t like their nails trimmed and give the owner a hard time, causing the pet stress and making it very difficult to do.\\nWe offer this service for you to make it easier on you and your pet.\\nCanine Pedicure $15\\nFeline Pedicure $15', 'Previous Demo (World Gone Sour) | Next Demo (NBA Jam On Fire Edition)\\nWorld Gone Sour is the fortieth episode of Demo Fridays done by Stephen. It also features Mallory.\\nAd blocker interference detected!\\nWikia is a free-to-use site that makes money from advertising. We have a modified experience for viewers using ad blockers\\nWikia is not accessible if you’ve made further modifications. Remove the custom ad blocker rule(s) and the page will load as expected.', '20 September 2016\\nThere has been a lot hype given to the development of Hyderabad city since the TRS government was formed. KCR’s government has set many expectations among the people about the beautification and cleanliness that the city is going to grasp. But now the horrible situation in the city has exposed the hollowness of the promises given by the Telangana Government. Actually the city turned from bad to worse. The entire city of Hyderabad has turned into a muddy well. The inefficiently designed drainage system could not cope up with the recent heavy rains and the roads are totally turned into ruins. Whether it is old city or Banjara Hills or Hi-Tech City, no matter where, everything looks the same.\\nOn the other hand, the minister of urban development, Mr. KTR wants to bring-up the city to make another Dallas. He also announced a 100-day pilot program to beautify the city. Of course, this order was passed just before the GHMC elections. After that elections are gone and the beautification plan also gone.\\nNo wonder, people are now questioning KTR directly through letters and tweets. Senior Congress leader and former MP V Hanumantha Rao demanded that KTR resign immediately for failing to maintain proper roads in the city. All the opposition leaders have already started questing the government. People are waiting to see where their city roads are going to lead them in the future.', 'Glow-In-The-Dark Glow Gloves\\nGet glowing this Halloween and wear Glow-In-The-Dark Glow Gloves! These spooky glowing gloves are perfect to wear trick or treating, they are a great way to keep an eye on your ghouls. If you are looking for an awesome safety item, these glow gloves are perfect. Glow-In-The-Dark Glow Gloves put smiles on faces & are truly a great way to get noticed.\\nAll you need to activate the awesome glow is sun light! Charge those bad boys in the sun, then wear until the glowing stops!\\nNOTE: This item is sold in pairs. Buying 1 piece means you are buying 1 pair. Example - order 12 pieces to receive 24 individual gloves.\\nOne size fits most.\\nGlow-In-The-Dark Glow Gloves do not include or need batteries.\\nPackaging: Retail ready, individual poly bags, 12 pairs per inner box - 144 pairs per carton.\\nWeight: 0.11 LB', 'RFL chief executive Nigel Wood (pictured) has congratulated Featherstone Rovers for clinching a second successive Co-operative Championship League Leaders Shield.\\nRovers finished three points clear of closest rivals Leigh Centurions after sealing top spot in the table by hammering Super League bound Widnes Vikings 44-4 on Sunday.\\nIt extended Featherstone’s unbeaten league run to 19 matches. Their solitary league defeat this season was at Leigh on the opening day.\\n“On behalf of the RFL I would like to congratulate everyone at Featherstone Rovers for their success in winning the 2011 Championship League Leaders Shield, an achievement that everyone at the club should be proud of,” said Wood.\\n“Featherstone have been one of the most consistent sides in the Co-operative Championship over the past two seasons and their success in retaining the Leaders shield this season is testimony to the quality of their on-field performances in 2011.”', 'I was kindly tagged by notsomoderngirl and thought I would try it. Bear with me, fairly new to blogging and tags! 🤓\\nFlagrate: Writing Charm\\nA book whose theme you found interesting but would like to re-write.\\nI have to pick The Smaller Evil by Stephanie Kuehn. I found the cult like group fascinating but I think I would’ve enjoyed this book a lot more if the last 1/4th was clearer and not quite so confusing. I was enjoying the book until that point and it just ended on a low note for me.\\nAlohomora: Unlocking Charm\\nThe first book in a series that got you hooked.\\nThe Girl with the Dragon Tattoo by Steig Larsson. I absolutely loved this book. It took a little bit to get going but once it did, I was hooked!\\nAccacio: Summoning Charm\\nA book you wish you could have right now.\\nI would love to have Slade House by David Mitchell right now. It’s already available but I just don’t have the funds currently. As soon as I do, rest assured it will be bought! I need to read The Bone Clocks first as they’re supposed to be tied together in some way.\\nAuada Kedaura: Killing Curse\\nA killer book.\\nThe Creeper Man by Dawn Kurtagich. I LOVED this book. So in those terms, it’s a killer book! It also has horror, mystery, death, themes so I suppose that makes it killer too.\\nConfundo: Confusing Charm\\nA book that was really confusing.\\nMy pick for this one is House of Leaves by Mark Z. Danielewski. I’ve attempted to read this before and gave up about 1/4 the way through. I was confused about a lot of it but I was quite a bit younger. I’m hoping now that I’m a bit older, I can work my way through it. It seems like such an amazing book!\\nSectumsempra: Dark Charm\\nA dark and twisted book.\\nHorrorstor by Grady Hendrix. Going into this book, I didn’t have high hopes. It’s rare a book (or movie) can actually give me the creeps. This book achieved that! I was pleasantly surprised!\\nAparecium: Revealing Charm\\nA book that surprised you in a great way.\\nOh my, did this book blow me away! I went into it knowing very little, even thinking it was from the horror genre. I won’t go in to too much detail because of spoilers, but this book will stay with me for a very long time!\\nI’m new at WordPress so I don’t want to tag too many people, not knowing who has already done it. Feel free to do it skip if you’d like!\\nThanks for reading!'], 'id': ['<urn:uuid:12ecc351-55d2-44b1-822a-58c2b800b76d>', '<urn:uuid:0a6a94f8-9639-45fc-aa60-142a086557de>', '<urn:uuid:d55aff8f-20d4-4961-b576-bb2f21f02d4a>', '<urn:uuid:ae3672f6-913a-41a2-aa9f-999046c0c446>', '<urn:uuid:5db50e26-c8ac-4214-aa17-4d54f5019bd9>', '<urn:uuid:27922a6e-4dab-485e-b6f7-abcf7c1cd582>', '<urn:uuid:012b734e-1133-4c1d-bb39-a4822ca69abf>', '<urn:uuid:b797a948-e2ec-4ad1-a777-3d75216a4c19>', '<urn:uuid:d30597b1-3904-424e-9b15-4d903034a212>', '<urn:uuid:8d1ee0e7-30d0-413d-a25a-e37bff1fe1b5>', '<urn:uuid:bac995cb-23c9-4dc9-b6ce-1bd36b1f62e7>', '<urn:uuid:c38dbe7c-84e3-4465-a6be-471ee44fbd3e>', '<urn:uuid:a5bdb2d0-483f-46d4-86e6-8b86f068ea53>', '<urn:uuid:90994fe9-0802-4a8c-b6be-c4b3894b8653>', '<urn:uuid:951afe31-5b81-4dfc-a7ae-48bd343becab>', '<urn:uuid:e68fcd96-946f-4010-ad66-274f949659ce>'], 'dump': ['CC-MAIN-2017-26', 'CC-MAIN-2017-26', 'CC-MAIN-2017-26', 'CC-MAIN-2017-26', 'CC-MAIN-2017-26', 'CC-MAIN-2017-26', 'CC-MAIN-2017-26', 'CC-MAIN-2017-26', 'CC-MAIN-2017-26', 'CC-MAIN-2017-26', 'CC-MAIN-2017-26', 'CC-MAIN-2017-26', 'CC-MAIN-2017-26', 'CC-MAIN-2017-26', 'CC-MAIN-2017-26', 'CC-MAIN-2017-26'], 'url': ['https://sectionhiker.com/winter-gear-outdoor-research-cornice-gore-tex-mittens/', 'https://freethoughtblogs.com/zingularity/2012/04/26/teacher-fired-by-catholic-school-for-getting-pregnant-the-wrong-way/', 'http://www.bpwrap.com/tag/events/', 'https://pj.news.chass.ncsu.edu/2011/04/15/case-interim-executive-director/', 'https://midlifewanderlust1965.wordpress.com/2013/04/01/statistics-march-2013/', 'http://amdunbarranch.blogspot.com/2010/03/testing-new-lens-and-loving-it.html', 'https://recycle.com/our-services/industries-we-serve/hospital-healthcare-system/', 'http://www.keystonehumanservices.org/keystone-news/dennis-felty-receives-the-first-par-innovation-award.php', 'http://hotair.com/archives/2010/07/08/reason-tv-the-education-renaissance-of-katrina/', 'https://surveyanyplace.com/docs/explanation-dashboard-symbols/', 'http://dayandeveningpetclinic.com/services/nail-trims/', 'http://stephengeorg.wikia.com/wiki/Spelunky_-_Demo_Fridays', 'http://www.teluguroommate.com/politics/hyderabad-rains-and-roads.html', 'https://bongoflashers.com/products/glow-in-the-dark-glow-gloves', 'http://www.pontefractandcastlefordexpress.co.uk/sport/rugby-league/featherstone-rovers/rovers-congratulated-by-rfl-chief-wood-1-3743183', 'https://littlelifelibrary.wordpress.com/2017/01/04/harry-potter-book-tag/'], 'date': ['2017-06-28T19:05:48Z', '2017-06-23T08:44:04Z', '2017-06-23T08:48:36Z', '2017-06-29T14:19:46Z', '2017-06-29T14:11:13Z', '2017-06-24T03:42:20Z', '2017-06-28T19:04:50Z', '2017-06-23T08:33:02Z', '2017-06-29T14:27:05Z', '2017-06-28T19:11:57Z', '2017-06-23T08:22:20Z', '2017-06-24T03:40:34Z', '2017-06-23T08:38:23Z', '2017-06-23T08:25:44Z', '2017-06-23T08:34:21Z', '2017-06-23T08:24:24Z'], 'file_path': ['s3://commoncrawl/crawl-data/CC-MAIN-2017-26/segments/1498128323730.30/warc/CC-MAIN-20170628185804-20170628205804-00302.warc.gz', 's3://commoncrawl/crawl-data/CC-MAIN-2017-26/segments/1498128320040.36/warc/CC-MAIN-20170623082050-20170623102050-00021.warc.gz', 's3://commoncrawl/crawl-data/CC-MAIN-2017-26/segments/1498128320040.36/warc/CC-MAIN-20170623082050-20170623102050-00021.warc.gz', 's3://commoncrawl/crawl-data/CC-MAIN-2017-26/segments/1498128329344.98/warc/CC-MAIN-20170629135715-20170629155715-00382.warc.gz', 's3://commoncrawl/crawl-data/CC-MAIN-2017-26/segments/1498128329344.98/warc/CC-MAIN-20170629135715-20170629155715-00382.warc.gz', 's3://commoncrawl/crawl-data/CC-MAIN-2017-26/segments/1498128320215.92/warc/CC-MAIN-20170624031945-20170624051945-00102.warc.gz', 's3://commoncrawl/crawl-data/CC-MAIN-2017-26/segments/1498128323730.30/warc/CC-MAIN-20170628185804-20170628205804-00302.warc.gz', 's3://commoncrawl/crawl-data/CC-MAIN-2017-26/segments/1498128320040.36/warc/CC-MAIN-20170623082050-20170623102050-00021.warc.gz', 's3://commoncrawl/crawl-data/CC-MAIN-2017-26/segments/1498128329344.98/warc/CC-MAIN-20170629135715-20170629155715-00382.warc.gz', 's3://commoncrawl/crawl-data/CC-MAIN-2017-26/segments/1498128323730.30/warc/CC-MAIN-20170628185804-20170628205804-00302.warc.gz', 's3://commoncrawl/crawl-data/CC-MAIN-2017-26/segments/1498128320040.36/warc/CC-MAIN-20170623082050-20170623102050-00021.warc.gz', 's3://commoncrawl/crawl-data/CC-MAIN-2017-26/segments/1498128320215.92/warc/CC-MAIN-20170624031945-20170624051945-00102.warc.gz', 's3://commoncrawl/crawl-data/CC-MAIN-2017-26/segments/1498128320040.36/warc/CC-MAIN-20170623082050-20170623102050-00021.warc.gz', 's3://commoncrawl/crawl-data/CC-MAIN-2017-26/segments/1498128320040.36/warc/CC-MAIN-20170623082050-20170623102050-00021.warc.gz', 's3://commoncrawl/crawl-data/CC-MAIN-2017-26/segments/1498128320040.36/warc/CC-MAIN-20170623082050-20170623102050-00021.warc.gz', 's3://commoncrawl/crawl-data/CC-MAIN-2017-26/segments/1498128320040.36/warc/CC-MAIN-20170623082050-20170623102050-00021.warc.gz'], 'language': ['en', 'en', 'en', 'en', 'en', 'en', 'en', 'en', 'en', 'en', 'en', 'en', 'en', 'en', 'en', 'en'], 'language_score': tensor([0.9335, 0.9738, 0.9514, 0.9592, 0.8248, 0.9719, 0.8839, 0.9658, 0.9717,\n",
      "        0.8748, 0.9487, 0.9108, 0.9771, 0.8554, 0.9519, 0.9758]), 'token_count': tensor([539, 391, 119, 658,  71, 192, 352, 391, 796, 513, 109, 104, 294, 207,\n",
      "        194, 629])}\n"
     ]
    },
    {
     "ename": "RuntimeError",
     "evalue": "Expected all tensors to be on the same device, but found at least two devices, cuda:0 and cpu! (when checking argument for argument index in method wrapper_CUDA__index_select)",
     "output_type": "error",
     "traceback": [
      "\u001b[0;31m---------------------------------------------------------------------------\u001b[0m",
      "\u001b[0;31mRuntimeError\u001b[0m                              Traceback (most recent call last)",
      "Cell \u001b[0;32mIn[35], line 11\u001b[0m\n\u001b[1;32m      9\u001b[0m \u001b[38;5;28mprint\u001b[39m(batch)\n\u001b[1;32m     10\u001b[0m t \u001b[38;5;241m=\u001b[39m transformer_tokenizer(batch[\u001b[38;5;124m\"\u001b[39m\u001b[38;5;124mtext\u001b[39m\u001b[38;5;124m\"\u001b[39m], padding\u001b[38;5;241m=\u001b[39m\u001b[38;5;124m\"\u001b[39m\u001b[38;5;124mmax_length\u001b[39m\u001b[38;5;124m\"\u001b[39m, truncation\u001b[38;5;241m=\u001b[39m\u001b[38;5;28;01mTrue\u001b[39;00m, return_tensors\u001b[38;5;241m=\u001b[39m \u001b[38;5;124m\"\u001b[39m\u001b[38;5;124mpt\u001b[39m\u001b[38;5;124m\"\u001b[39m)\n\u001b[0;32m---> 11\u001b[0m outputs \u001b[38;5;241m=\u001b[39m \u001b[43mtransformer_backbone\u001b[49m\u001b[43m(\u001b[49m\u001b[43mt\u001b[49m\u001b[43m[\u001b[49m\u001b[38;5;124;43m'\u001b[39;49m\u001b[38;5;124;43minput_ids\u001b[39;49m\u001b[38;5;124;43m'\u001b[39;49m\u001b[43m]\u001b[49m\u001b[43m)\u001b[49m\n\u001b[1;32m     12\u001b[0m loss \u001b[38;5;241m=\u001b[39m outputs[\u001b[38;5;241m0\u001b[39m]\n\u001b[1;32m     13\u001b[0m loss\u001b[38;5;241m.\u001b[39mbackward()\n",
      "File \u001b[0;32m~/miniconda3/lib/python3.12/site-packages/torch/nn/modules/module.py:1553\u001b[0m, in \u001b[0;36mModule._wrapped_call_impl\u001b[0;34m(self, *args, **kwargs)\u001b[0m\n\u001b[1;32m   1551\u001b[0m     \u001b[38;5;28;01mreturn\u001b[39;00m \u001b[38;5;28mself\u001b[39m\u001b[38;5;241m.\u001b[39m_compiled_call_impl(\u001b[38;5;241m*\u001b[39margs, \u001b[38;5;241m*\u001b[39m\u001b[38;5;241m*\u001b[39mkwargs)  \u001b[38;5;66;03m# type: ignore[misc]\u001b[39;00m\n\u001b[1;32m   1552\u001b[0m \u001b[38;5;28;01melse\u001b[39;00m:\n\u001b[0;32m-> 1553\u001b[0m     \u001b[38;5;28;01mreturn\u001b[39;00m \u001b[38;5;28;43mself\u001b[39;49m\u001b[38;5;241;43m.\u001b[39;49m\u001b[43m_call_impl\u001b[49m\u001b[43m(\u001b[49m\u001b[38;5;241;43m*\u001b[39;49m\u001b[43margs\u001b[49m\u001b[43m,\u001b[49m\u001b[43m \u001b[49m\u001b[38;5;241;43m*\u001b[39;49m\u001b[38;5;241;43m*\u001b[39;49m\u001b[43mkwargs\u001b[49m\u001b[43m)\u001b[49m\n",
      "File \u001b[0;32m~/miniconda3/lib/python3.12/site-packages/torch/nn/modules/module.py:1562\u001b[0m, in \u001b[0;36mModule._call_impl\u001b[0;34m(self, *args, **kwargs)\u001b[0m\n\u001b[1;32m   1557\u001b[0m \u001b[38;5;66;03m# If we don't have any hooks, we want to skip the rest of the logic in\u001b[39;00m\n\u001b[1;32m   1558\u001b[0m \u001b[38;5;66;03m# this function, and just call forward.\u001b[39;00m\n\u001b[1;32m   1559\u001b[0m \u001b[38;5;28;01mif\u001b[39;00m \u001b[38;5;129;01mnot\u001b[39;00m (\u001b[38;5;28mself\u001b[39m\u001b[38;5;241m.\u001b[39m_backward_hooks \u001b[38;5;129;01mor\u001b[39;00m \u001b[38;5;28mself\u001b[39m\u001b[38;5;241m.\u001b[39m_backward_pre_hooks \u001b[38;5;129;01mor\u001b[39;00m \u001b[38;5;28mself\u001b[39m\u001b[38;5;241m.\u001b[39m_forward_hooks \u001b[38;5;129;01mor\u001b[39;00m \u001b[38;5;28mself\u001b[39m\u001b[38;5;241m.\u001b[39m_forward_pre_hooks\n\u001b[1;32m   1560\u001b[0m         \u001b[38;5;129;01mor\u001b[39;00m _global_backward_pre_hooks \u001b[38;5;129;01mor\u001b[39;00m _global_backward_hooks\n\u001b[1;32m   1561\u001b[0m         \u001b[38;5;129;01mor\u001b[39;00m _global_forward_hooks \u001b[38;5;129;01mor\u001b[39;00m _global_forward_pre_hooks):\n\u001b[0;32m-> 1562\u001b[0m     \u001b[38;5;28;01mreturn\u001b[39;00m \u001b[43mforward_call\u001b[49m\u001b[43m(\u001b[49m\u001b[38;5;241;43m*\u001b[39;49m\u001b[43margs\u001b[49m\u001b[43m,\u001b[49m\u001b[43m \u001b[49m\u001b[38;5;241;43m*\u001b[39;49m\u001b[38;5;241;43m*\u001b[39;49m\u001b[43mkwargs\u001b[49m\u001b[43m)\u001b[49m\n\u001b[1;32m   1564\u001b[0m \u001b[38;5;28;01mtry\u001b[39;00m:\n\u001b[1;32m   1565\u001b[0m     result \u001b[38;5;241m=\u001b[39m \u001b[38;5;28;01mNone\u001b[39;00m\n",
      "File \u001b[0;32m~/miniconda3/lib/python3.12/site-packages/transformers/models/gpt_neo/modeling_gpt_neo.py:687\u001b[0m, in \u001b[0;36mGPTNeoModel.forward\u001b[0;34m(self, input_ids, past_key_values, attention_mask, token_type_ids, position_ids, head_mask, inputs_embeds, use_cache, output_attentions, output_hidden_states, return_dict, cache_position)\u001b[0m\n\u001b[1;32m    684\u001b[0m         use_cache \u001b[38;5;241m=\u001b[39m \u001b[38;5;28;01mFalse\u001b[39;00m\n\u001b[1;32m    686\u001b[0m \u001b[38;5;28;01mif\u001b[39;00m inputs_embeds \u001b[38;5;129;01mis\u001b[39;00m \u001b[38;5;28;01mNone\u001b[39;00m:\n\u001b[0;32m--> 687\u001b[0m     inputs_embeds \u001b[38;5;241m=\u001b[39m \u001b[38;5;28;43mself\u001b[39;49m\u001b[38;5;241;43m.\u001b[39;49m\u001b[43mwte\u001b[49m\u001b[43m(\u001b[49m\u001b[43minput_ids\u001b[49m\u001b[43m)\u001b[49m\n\u001b[1;32m    689\u001b[0m \u001b[38;5;66;03m# kept for BC (non `Cache` `past_key_values` inputs)\u001b[39;00m\n\u001b[1;32m    690\u001b[0m return_legacy_cache \u001b[38;5;241m=\u001b[39m \u001b[38;5;28;01mFalse\u001b[39;00m\n",
      "File \u001b[0;32m~/miniconda3/lib/python3.12/site-packages/torch/nn/modules/module.py:1553\u001b[0m, in \u001b[0;36mModule._wrapped_call_impl\u001b[0;34m(self, *args, **kwargs)\u001b[0m\n\u001b[1;32m   1551\u001b[0m     \u001b[38;5;28;01mreturn\u001b[39;00m \u001b[38;5;28mself\u001b[39m\u001b[38;5;241m.\u001b[39m_compiled_call_impl(\u001b[38;5;241m*\u001b[39margs, \u001b[38;5;241m*\u001b[39m\u001b[38;5;241m*\u001b[39mkwargs)  \u001b[38;5;66;03m# type: ignore[misc]\u001b[39;00m\n\u001b[1;32m   1552\u001b[0m \u001b[38;5;28;01melse\u001b[39;00m:\n\u001b[0;32m-> 1553\u001b[0m     \u001b[38;5;28;01mreturn\u001b[39;00m \u001b[38;5;28;43mself\u001b[39;49m\u001b[38;5;241;43m.\u001b[39;49m\u001b[43m_call_impl\u001b[49m\u001b[43m(\u001b[49m\u001b[38;5;241;43m*\u001b[39;49m\u001b[43margs\u001b[49m\u001b[43m,\u001b[49m\u001b[43m \u001b[49m\u001b[38;5;241;43m*\u001b[39;49m\u001b[38;5;241;43m*\u001b[39;49m\u001b[43mkwargs\u001b[49m\u001b[43m)\u001b[49m\n",
      "File \u001b[0;32m~/miniconda3/lib/python3.12/site-packages/torch/nn/modules/module.py:1562\u001b[0m, in \u001b[0;36mModule._call_impl\u001b[0;34m(self, *args, **kwargs)\u001b[0m\n\u001b[1;32m   1557\u001b[0m \u001b[38;5;66;03m# If we don't have any hooks, we want to skip the rest of the logic in\u001b[39;00m\n\u001b[1;32m   1558\u001b[0m \u001b[38;5;66;03m# this function, and just call forward.\u001b[39;00m\n\u001b[1;32m   1559\u001b[0m \u001b[38;5;28;01mif\u001b[39;00m \u001b[38;5;129;01mnot\u001b[39;00m (\u001b[38;5;28mself\u001b[39m\u001b[38;5;241m.\u001b[39m_backward_hooks \u001b[38;5;129;01mor\u001b[39;00m \u001b[38;5;28mself\u001b[39m\u001b[38;5;241m.\u001b[39m_backward_pre_hooks \u001b[38;5;129;01mor\u001b[39;00m \u001b[38;5;28mself\u001b[39m\u001b[38;5;241m.\u001b[39m_forward_hooks \u001b[38;5;129;01mor\u001b[39;00m \u001b[38;5;28mself\u001b[39m\u001b[38;5;241m.\u001b[39m_forward_pre_hooks\n\u001b[1;32m   1560\u001b[0m         \u001b[38;5;129;01mor\u001b[39;00m _global_backward_pre_hooks \u001b[38;5;129;01mor\u001b[39;00m _global_backward_hooks\n\u001b[1;32m   1561\u001b[0m         \u001b[38;5;129;01mor\u001b[39;00m _global_forward_hooks \u001b[38;5;129;01mor\u001b[39;00m _global_forward_pre_hooks):\n\u001b[0;32m-> 1562\u001b[0m     \u001b[38;5;28;01mreturn\u001b[39;00m \u001b[43mforward_call\u001b[49m\u001b[43m(\u001b[49m\u001b[38;5;241;43m*\u001b[39;49m\u001b[43margs\u001b[49m\u001b[43m,\u001b[49m\u001b[43m \u001b[49m\u001b[38;5;241;43m*\u001b[39;49m\u001b[38;5;241;43m*\u001b[39;49m\u001b[43mkwargs\u001b[49m\u001b[43m)\u001b[49m\n\u001b[1;32m   1564\u001b[0m \u001b[38;5;28;01mtry\u001b[39;00m:\n\u001b[1;32m   1565\u001b[0m     result \u001b[38;5;241m=\u001b[39m \u001b[38;5;28;01mNone\u001b[39;00m\n",
      "File \u001b[0;32m~/miniconda3/lib/python3.12/site-packages/torch/nn/modules/sparse.py:164\u001b[0m, in \u001b[0;36mEmbedding.forward\u001b[0;34m(self, input)\u001b[0m\n\u001b[1;32m    163\u001b[0m \u001b[38;5;28;01mdef\u001b[39;00m \u001b[38;5;21mforward\u001b[39m(\u001b[38;5;28mself\u001b[39m, \u001b[38;5;28minput\u001b[39m: Tensor) \u001b[38;5;241m-\u001b[39m\u001b[38;5;241m>\u001b[39m Tensor:\n\u001b[0;32m--> 164\u001b[0m     \u001b[38;5;28;01mreturn\u001b[39;00m \u001b[43mF\u001b[49m\u001b[38;5;241;43m.\u001b[39;49m\u001b[43membedding\u001b[49m\u001b[43m(\u001b[49m\n\u001b[1;32m    165\u001b[0m \u001b[43m        \u001b[49m\u001b[38;5;28;43minput\u001b[39;49m\u001b[43m,\u001b[49m\u001b[43m \u001b[49m\u001b[38;5;28;43mself\u001b[39;49m\u001b[38;5;241;43m.\u001b[39;49m\u001b[43mweight\u001b[49m\u001b[43m,\u001b[49m\u001b[43m \u001b[49m\u001b[38;5;28;43mself\u001b[39;49m\u001b[38;5;241;43m.\u001b[39;49m\u001b[43mpadding_idx\u001b[49m\u001b[43m,\u001b[49m\u001b[43m \u001b[49m\u001b[38;5;28;43mself\u001b[39;49m\u001b[38;5;241;43m.\u001b[39;49m\u001b[43mmax_norm\u001b[49m\u001b[43m,\u001b[49m\n\u001b[1;32m    166\u001b[0m \u001b[43m        \u001b[49m\u001b[38;5;28;43mself\u001b[39;49m\u001b[38;5;241;43m.\u001b[39;49m\u001b[43mnorm_type\u001b[49m\u001b[43m,\u001b[49m\u001b[43m \u001b[49m\u001b[38;5;28;43mself\u001b[39;49m\u001b[38;5;241;43m.\u001b[39;49m\u001b[43mscale_grad_by_freq\u001b[49m\u001b[43m,\u001b[49m\u001b[43m \u001b[49m\u001b[38;5;28;43mself\u001b[39;49m\u001b[38;5;241;43m.\u001b[39;49m\u001b[43msparse\u001b[49m\u001b[43m)\u001b[49m\n",
      "File \u001b[0;32m~/miniconda3/lib/python3.12/site-packages/torch/nn/functional.py:2267\u001b[0m, in \u001b[0;36membedding\u001b[0;34m(input, weight, padding_idx, max_norm, norm_type, scale_grad_by_freq, sparse)\u001b[0m\n\u001b[1;32m   2261\u001b[0m     \u001b[38;5;66;03m# Note [embedding_renorm set_grad_enabled]\u001b[39;00m\n\u001b[1;32m   2262\u001b[0m     \u001b[38;5;66;03m# XXX: equivalent to\u001b[39;00m\n\u001b[1;32m   2263\u001b[0m     \u001b[38;5;66;03m# with torch.no_grad():\u001b[39;00m\n\u001b[1;32m   2264\u001b[0m     \u001b[38;5;66;03m#   torch.embedding_renorm_\u001b[39;00m\n\u001b[1;32m   2265\u001b[0m     \u001b[38;5;66;03m# remove once script supports set_grad_enabled\u001b[39;00m\n\u001b[1;32m   2266\u001b[0m     _no_grad_embedding_renorm_(weight, \u001b[38;5;28minput\u001b[39m, max_norm, norm_type)\n\u001b[0;32m-> 2267\u001b[0m \u001b[38;5;28;01mreturn\u001b[39;00m \u001b[43mtorch\u001b[49m\u001b[38;5;241;43m.\u001b[39;49m\u001b[43membedding\u001b[49m\u001b[43m(\u001b[49m\u001b[43mweight\u001b[49m\u001b[43m,\u001b[49m\u001b[43m \u001b[49m\u001b[38;5;28;43minput\u001b[39;49m\u001b[43m,\u001b[49m\u001b[43m \u001b[49m\u001b[43mpadding_idx\u001b[49m\u001b[43m,\u001b[49m\u001b[43m \u001b[49m\u001b[43mscale_grad_by_freq\u001b[49m\u001b[43m,\u001b[49m\u001b[43m \u001b[49m\u001b[43msparse\u001b[49m\u001b[43m)\u001b[49m\n",
      "\u001b[0;31mRuntimeError\u001b[0m: Expected all tensors to be on the same device, but found at least two devices, cuda:0 and cpu! (when checking argument for argument index in method wrapper_CUDA__index_select)"
     ]
    }
   ],
   "source": [
    "\n",
    "optimizer = torch.optim.AdamW(params=trainer_params , lr=1e-5)\n",
    "for epoch in range(3):\n",
    "    dataset.set_epoch(epoch)\n",
    "    for i, batch in enumerate(tqdm(batched_dataset, total=5)):\n",
    "        if i == 5:\n",
    "            break\n",
    "\n",
    "        #batch = {k: v.to(device) for k, v in batch.items() if isinstance(v, torch.Tensor)}\n",
    "        print(batch)\n",
    "        t = transformer_tokenizer(batch[\"text\"], padding=\"max_length\", truncation=True, return_tensors= \"pt\")\n",
    "        outputs = transformer_backbone(t['input_ids'])\n",
    "        loss = outputs[0]\n",
    "        loss.backward()\n",
    "        optimizer.step()\n",
    "        optimizer.zero_grad()\n",
    "        if i % 10 == 0:\n",
    "            print(f\"loss: {loss}\")"
   ]
  },
  {
   "cell_type": "code",
   "execution_count": null,
   "metadata": {},
   "outputs": [],
   "source": []
  }
 ],
 "metadata": {
  "kernelspec": {
   "display_name": "base",
   "language": "python",
   "name": "python3"
  },
  "language_info": {
   "codemirror_mode": {
    "name": "ipython",
    "version": 3
   },
   "file_extension": ".py",
   "mimetype": "text/x-python",
   "name": "python",
   "nbconvert_exporter": "python",
   "pygments_lexer": "ipython3",
   "version": "3.12.2"
  }
 },
 "nbformat": 4,
 "nbformat_minor": 2
}
