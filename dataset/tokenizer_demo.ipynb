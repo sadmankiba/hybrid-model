{
 "cells": [
  {
   "cell_type": "code",
   "execution_count": 6,
   "metadata": {},
   "outputs": [
    {
     "name": "stdout",
     "output_type": "stream",
     "text": [
      "<|endoftext|>\n",
      "50256\n"
     ]
    }
   ],
   "source": [
    "from transformers import AutoTokenizer\n",
    "\n",
    "tokenizer = AutoTokenizer.from_pretrained(\"EleutherAI/gpt-neo-125M\")\n",
    "tokenizer.pad_token = tokenizer.eos_token # for open-ended generation\n",
    "print(tokenizer.eos_token)\n",
    "print(tokenizer.eos_token_id)"
   ]
  },
  {
   "cell_type": "code",
   "execution_count": 3,
   "metadata": {},
   "outputs": [
    {
     "name": "stdout",
     "output_type": "stream",
     "text": [
      "{'input_ids': [32], 'attention_mask': [1]}\n",
      "{'input_ids': [32, 3290], 'attention_mask': [1, 1]}\n",
      "{'input_ids': [21017, 317, 3290], 'attention_mask': [1, 1, 1]}\n"
     ]
    }
   ],
   "source": [
    "print(tokenizer(\"A\"))\n",
    "print(tokenizer(\"A dog\"))\n",
    "print(tokenizer(\"### A dog\"))"
   ]
  },
  {
   "cell_type": "code",
   "execution_count": 5,
   "metadata": {},
   "outputs": [
    {
     "name": "stdout",
     "output_type": "stream",
     "text": [
      "{'input_ids': [21947], 'attention_mask': [1]}\n",
      "{'input_ids': [21947, 25, 220], 'attention_mask': [1, 1, 1]}\n",
      "{'input_ids': [21947, 25, 317], 'attention_mask': [1, 1, 1]}\n",
      "{'input_ids': [21947, 25, 317, 18233, 25], 'attention_mask': [1, 1, 1, 1, 1]}\n",
      "{'input_ids': [21947, 25, 317, 18233, 25, 347, 23998, 25], 'attention_mask': [1, 1, 1, 1, 1, 1, 1, 1]}\n",
      "{'input_ids': [21947, 25, 317, 18233, 25, 347, 23998, 25, 327], 'attention_mask': [1, 1, 1, 1, 1, 1, 1, 1, 1]}\n",
      "{'input_ids': [21017, 30532, 25, 317, 44386, 18233, 25, 347, 44386, 23998, 25, 327], 'attention_mask': [1, 1, 1, 1, 1, 1, 1, 1, 1, 1, 1, 1]}\n"
     ]
    }
   ],
   "source": [
    "print(tokenizer(\"Context\"))\n",
    "print(tokenizer(\"Context: \"))\n",
    "print(tokenizer(\"Context: A\"))\n",
    "print(tokenizer(\"Context: A Question:\"))\n",
    "print(tokenizer(\"Context: A Question: B Answer:\"))\n",
    "print(tokenizer(\"Context: A Question: B Answer: C\"))\n",
    "print(tokenizer(\"### Context: A ### Question: B ### Answer: C\"))\n",
    "\n",
    "\n",
    "# Observation \n",
    "# A, B, C get some consistent token value\n",
    "# ### does not have a consistent token value\n",
    "# Meaningful word and punctuation always get same value (e.g. Answer: = [23998, 25])"
   ]
  }
 ],
 "metadata": {
  "kernelspec": {
   "display_name": "base",
   "language": "python",
   "name": "python3"
  },
  "language_info": {
   "codemirror_mode": {
    "name": "ipython",
    "version": 3
   },
   "file_extension": ".py",
   "mimetype": "text/x-python",
   "name": "python",
   "nbconvert_exporter": "python",
   "pygments_lexer": "ipython3",
   "version": "3.10.15"
  }
 },
 "nbformat": 4,
 "nbformat_minor": 2
}
