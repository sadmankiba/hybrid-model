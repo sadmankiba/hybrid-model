{
 "cells": [
  {
   "cell_type": "code",
   "execution_count": 1,
   "metadata": {},
   "outputs": [],
   "source": [
    "from gen_data import generate_data\n",
    "from instances import (\n",
    "    generate_copying_instance,\n",
    "    generate_selective_copying_instance,\n",
    "    generate_in_context_recall_instance,\n",
    "    generate_noisy_in_context_recall_instance,\n",
    "    generate_fuzzy_in_context_recall_instance,\n",
    "    generate_memorization_instance\n",
    ")"
   ]
  },
  {
   "cell_type": "code",
   "execution_count": 3,
   "metadata": {},
   "outputs": [
    {
     "name": "stdout",
     "output_type": "stream",
     "text": [
      "Training data:\n",
      "Input: [6 6 6 5 6 2 6 2 6 5 6 6 6 1 7 6 6 6 6 6], Output: [-100 -100 -100 -100 -100 -100 -100 -100 -100 -100 -100 -100 -100 -100\n",
      " -100    5    2    2    5    1]\n",
      "Input: [6 6 6 6 3 6 6 1 6 1 6 4 6 3 7 6 6 6 6 6], Output: [-100 -100 -100 -100 -100 -100 -100 -100 -100 -100 -100 -100 -100 -100\n",
      " -100    3    1    1    4    3]\n",
      "Input: [6 1 6 3 6 6 6 1 6 6 6 3 6 3 7 6 6 6 6 6], Output: [-100 -100 -100 -100 -100 -100 -100 -100 -100 -100 -100 -100 -100 -100\n",
      " -100    1    3    1    3    3]\n",
      "Input: [1 6 1 6 6 3 6 6 6 6 6 1 6 0 7 6 6 6 6 6], Output: [-100 -100 -100 -100 -100 -100 -100 -100 -100 -100 -100 -100 -100 -100\n",
      " -100    1    1    3    1    0]\n",
      "Input: [6 4 6 6 6 5 6 6 6 2 6 6 4 3 7 6 6 6 6 6], Output: [-100 -100 -100 -100 -100 -100 -100 -100 -100 -100 -100 -100 -100 -100\n",
      " -100    4    5    2    4    3]\n",
      "Test data:\n",
      "Input: [2 6 6 6 2 6 6 1 6 6 5 6 6 2 7 6 6 6 6 6], Output: [-100 -100 -100 -100 -100 -100 -100 -100 -100 -100 -100 -100 -100 -100\n",
      " -100    2    2    1    5    2]\n",
      "Input: [6 6 1 6 3 6 6 6 0 1 6 6 6 0 7 6 6 6 6 6], Output: [-100 -100 -100 -100 -100 -100 -100 -100 -100 -100 -100 -100 -100 -100\n",
      " -100    1    3    0    1    0]\n"
     ]
    }
   ],
   "source": [
    "data = generate_data(generate_selective_copying_instance, instance_fn_kwargs={'vocab_size': 8, 'seq_len': 20, 'num_tokens_to_copy': 5}, \n",
    "              num_train_examples=5, num_test_examples=2)\n",
    "\n",
    "print(\"Training data:\")\n",
    "for (x, y) in data['train']:\n",
    "    print(f'Input: {x}, Output: {y}')\n",
    "    \n",
    "print(\"Test data:\")\n",
    "for (x, y) in data['test']:\n",
    "    print(f'Input: {x}, Output: {y}')"
   ]
  },
  {
   "cell_type": "code",
   "execution_count": 5,
   "metadata": {},
   "outputs": [
    {
     "name": "stdout",
     "output_type": "stream",
     "text": [
      "Training data:\n",
      "Input: [ 5 10  4  8 14 14  1  7  2  6  2  6 14 13 13 12  4  8 15  2], Output: [10  4  8 14 14  1  7  2  6  2  6 14 13 13 12  4  8 15  2  6]\n",
      "Input: [ 2 10  3  9  5 10 13 12  2 10 12 13  5 10  0 10  5 10 15  2], Output: [10  3  9  5 10 13 12  2 10 12 13  5 10  0 10  5 10 15  2 10]\n",
      "Input: [ 0  6  5 10  2  7  0  6 13 13  1 10  4  9  5 10  1 10 15  5], Output: [ 6  5 10  2  7  0  6 13 13  1 10  4  9  5 10  1 10 15  5 10]\n",
      "Input: [14 14  3  6  3  6 13 14  3  6  2  7 14 13 13 12 14 12 15  3], Output: [14  3  6  3  6 13 14  3  6  2  7 14 13 13 12 14 12 15  3  6]\n",
      "Input: [ 2  8  4  9  1  8  3  8 13 13  3  8 13 14  3  8  4  9 15  4], Output: [ 8  4  9  1  8  3  8 13 13  3  8 13 14  3  8  4  9 15  4  9]\n",
      "Test data:\n",
      "Input: [ 3  8 14 12  4 11  2  8 13 14  0  9  2  8 12 13 14 13 15  3], Output: [-100 -100 -100 -100 -100 -100 -100 -100 -100 -100 -100 -100 -100 -100\n",
      " -100 -100 -100 -100 -100    8]\n",
      "Input: [ 3  9  5  6  3  9 12 13  1 11  2  9  2  9  0  9  0  9 15  5], Output: [-100 -100 -100 -100 -100 -100 -100 -100 -100 -100 -100 -100 -100 -100\n",
      " -100 -100 -100 -100 -100    6]\n"
     ]
    }
   ],
   "source": [
    "data = generate_data(generate_noisy_in_context_recall_instance, instance_fn_kwargs={'vocab_size': 16, 'seq_len': 20, 'noise_vocab_size': 3},\n",
    "                     num_train_examples=5, num_test_examples=2)\n",
    "\n",
    "print(\"Training data:\")\n",
    "for (x, y) in data['train']:\n",
    "    print(f'Input: {x}, Output: {y}')\n",
    "    \n",
    "print(\"Test data:\")\n",
    "for (x, y) in data['test']:\n",
    "    print(f'Input: {x}, Output: {y}')"
   ]
  }
 ],
 "metadata": {
  "kernelspec": {
   "display_name": "venv",
   "language": "python",
   "name": "python3"
  },
  "language_info": {
   "codemirror_mode": {
    "name": "ipython",
    "version": 3
   },
   "file_extension": ".py",
   "mimetype": "text/x-python",
   "name": "python",
   "nbconvert_exporter": "python",
   "pygments_lexer": "ipython3",
   "version": "3.10.12"
  }
 },
 "nbformat": 4,
 "nbformat_minor": 2
}
